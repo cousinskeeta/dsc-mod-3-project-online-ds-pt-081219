{
 "cells": [
  {
   "cell_type": "markdown",
   "metadata": {},
   "source": [
    "<img src='https://cdn.newsapi.com.au/image/v1/0b7222ee6231ac1de7979d9b60decd68?width=650'>"
   ]
  },
  {
   "cell_type": "markdown",
   "metadata": {},
   "source": [
    "<h1><center>Northwind!</center></h1>"
   ]
  },
  {
   "cell_type": "markdown",
   "metadata": {},
   "source": [
    "Northwind is a specialty food distributor, with employees in the United States and United Kingdom. The board of directors of Northwind would like to determine operational success and employee performance to justify expansion. The board chair has tasked the CEO with auditing  sales and employee data housing in the company's `Northwind_small` database. The CEO has hired my consultancy to answer the following quesitons based on the data:\n",
    "\n",
    "- <b>Initial Question:</b> *Does discount amount have a statistically significant effect on the quantity of a product in an order? If so, at what level(s) of discount?*\n",
    "- <b>Second Question:</b> *Are US employees generating the same profit on average as UK employees?*\n",
    "- <b>Third Question:</b> *On average, are our teams generating more profit from inside sales or outside sales in the US?*\n",
    "- <b>Final Question:</b> *Are all employees generating equal revenue over time?*"
   ]
  },
  {
   "cell_type": "markdown",
   "metadata": {},
   "source": [
    "## Table of Contents\n",
    "\n",
    "- [1. Initial Question](#1.-Initial-Question)\n",
    "    - [1.a Hypothesis Test](#1.a-Hypothesis-Test)\n",
    "    - [1.b Sampling](#1.b-Sampling)\n",
    "    - [1.c Visualizing the Sample Distribution](#1.c-Visualizing-the-Sample-Distribution)\n",
    "    - [1.d Analysis](#1.d-Analysis)\n",
    "    - [1.e Results Summary](#1.e-Results-Summary)\n",
    "    - [1.f Recommendation](#1.f-Recommendation)\n",
    "- [2. Second Question](#2.-Second-Question)\n",
    "    - [2.a Hypothesis](#2.a-Hypothesis)\n",
    "    - [2.b Sampling](#2.b-Sampling)\n",
    "    - [2.c Visualizing the Sample Distribution](#2.c-Visualizing-the-Sample-Distribution)\n",
    "    - [2.d Analysis](#2.d-Analysis)\n",
    "    - [2.e Results Summary](#2.e-Results-Summary)\n",
    "    - [2.f Recommendation](#2.f-Recommendation)\n",
    "- [3. Third Question](#3.-Third-Question)\n",
    "    - [3.a Hypothesis](#3.a-Hypothesis)\n",
    "    - [3.b Sampling](#3.b-Sampling)\n",
    "    - [3.c Visualizing the Sample Distribution](#3.c-Visualizing-the-Sample-Distribution)\n",
    "    - [3.d Analysis](#3.d-Analysis)\n",
    "    - [3.e Results Summary](#3.e-Results-Summary)\n",
    "    - [3.f Recommendation](#3.f-Recommendation)\n",
    "- [4. Final Question](#4.-Final-Question)\n",
    "    - [4.a Hypothesis](#4.a-Hypothesis)\n",
    "    - [4.b Sampling](#4.b-Sampling)\n",
    "    - [4.c Visualizing the Sample Distribution](#4.c-Visualizing-the-Sample-Distribution)\n",
    "    - [4.d Analysis](#4.d-Analysis)\n",
    "    - [4.e Results Summary](#4.e-Results-Summary)\n",
    "    - [4.f Recommendation](#4.f-Recommendation)\n",
    "- [5. Future Work](#5.-Future-Work)\n",
    "    - [5.a Recommendation 1](#5.a-Recommendation-1)\n",
    "    - [5.b Recommendation 2](#5.b-Recommendation-2)\n",
    "    - [5.c Recommendation 3](#5.c-Recommendation-3)"
   ]
  },
  {
   "cell_type": "code",
   "execution_count": 1,
   "metadata": {
    "scrolled": true
   },
   "outputs": [],
   "source": [
    "import tools.stats as t\n",
    "from tools.stats import *"
   ]
  },
  {
   "cell_type": "code",
   "execution_count": 2,
   "metadata": {},
   "outputs": [],
   "source": [
    "data ='Northwind_small.sqlite'"
   ]
  },
  {
   "cell_type": "code",
   "execution_count": 3,
   "metadata": {
    "scrolled": true
   },
   "outputs": [
    {
     "name": "stdout",
     "output_type": "stream",
     "text": [
      "tables from Northwind_small.sqlite\n"
     ]
    },
    {
     "data": {
      "text/plain": [
       "[('Employee',),\n",
       " ('Category',),\n",
       " ('Customer',),\n",
       " ('Shipper',),\n",
       " ('Supplier',),\n",
       " ('Order',),\n",
       " ('Product',),\n",
       " ('OrderDetail',),\n",
       " ('CustomerCustomerDemo',),\n",
       " ('CustomerDemographic',),\n",
       " ('Region',),\n",
       " ('Territory',),\n",
       " ('EmployeeTerritory',)]"
      ]
     },
     "execution_count": 3,
     "metadata": {},
     "output_type": "execute_result"
    }
   ],
   "source": [
    "t.sql.tables(data)"
   ]
  },
  {
   "cell_type": "markdown",
   "metadata": {},
   "source": [
    "# 1. Initial Question\n",
    "# *Does discount amount have a statistically significant effect on the quantity of a product in an order? If so, at what level(s) of discount?*"
   ]
  },
  {
   "cell_type": "markdown",
   "metadata": {},
   "source": [
    "## 1.a Hypothesis Test"
   ]
  },
  {
   "cell_type": "markdown",
   "metadata": {},
   "source": [
    "* H0 = quantity of order is NOT affected by discount size\n",
    "* H1 = quantity of order is significantly effect by discount size"
   ]
  },
  {
   "cell_type": "code",
   "execution_count": 4,
   "metadata": {},
   "outputs": [
    {
     "name": "stdout",
     "output_type": "stream",
     "text": [
      "OrderDetail from Northwind_small.sqlite\n"
     ]
    },
    {
     "data": {
      "text/html": [
       "<div>\n",
       "<style scoped>\n",
       "    .dataframe tbody tr th:only-of-type {\n",
       "        vertical-align: middle;\n",
       "    }\n",
       "\n",
       "    .dataframe tbody tr th {\n",
       "        vertical-align: top;\n",
       "    }\n",
       "\n",
       "    .dataframe thead th {\n",
       "        text-align: right;\n",
       "    }\n",
       "</style>\n",
       "<table border=\"1\" class=\"dataframe\">\n",
       "  <thead>\n",
       "    <tr style=\"text-align: right;\">\n",
       "      <th></th>\n",
       "      <th>Id</th>\n",
       "      <th>OrderId</th>\n",
       "      <th>ProductId</th>\n",
       "      <th>UnitPrice</th>\n",
       "      <th>Quantity</th>\n",
       "      <th>Discount</th>\n",
       "    </tr>\n",
       "  </thead>\n",
       "  <tbody>\n",
       "    <tr>\n",
       "      <th>0</th>\n",
       "      <td>10248/11</td>\n",
       "      <td>10248</td>\n",
       "      <td>11</td>\n",
       "      <td>14.0</td>\n",
       "      <td>12</td>\n",
       "      <td>0.0</td>\n",
       "    </tr>\n",
       "    <tr>\n",
       "      <th>1</th>\n",
       "      <td>10248/42</td>\n",
       "      <td>10248</td>\n",
       "      <td>42</td>\n",
       "      <td>9.8</td>\n",
       "      <td>10</td>\n",
       "      <td>0.0</td>\n",
       "    </tr>\n",
       "    <tr>\n",
       "      <th>2</th>\n",
       "      <td>10248/72</td>\n",
       "      <td>10248</td>\n",
       "      <td>72</td>\n",
       "      <td>34.8</td>\n",
       "      <td>5</td>\n",
       "      <td>0.0</td>\n",
       "    </tr>\n",
       "    <tr>\n",
       "      <th>3</th>\n",
       "      <td>10249/14</td>\n",
       "      <td>10249</td>\n",
       "      <td>14</td>\n",
       "      <td>18.6</td>\n",
       "      <td>9</td>\n",
       "      <td>0.0</td>\n",
       "    </tr>\n",
       "    <tr>\n",
       "      <th>4</th>\n",
       "      <td>10249/51</td>\n",
       "      <td>10249</td>\n",
       "      <td>51</td>\n",
       "      <td>42.4</td>\n",
       "      <td>40</td>\n",
       "      <td>0.0</td>\n",
       "    </tr>\n",
       "  </tbody>\n",
       "</table>\n",
       "</div>"
      ],
      "text/plain": [
       "         Id  OrderId  ProductId  UnitPrice  Quantity  Discount\n",
       "0  10248/11    10248         11       14.0        12       0.0\n",
       "1  10248/42    10248         42        9.8        10       0.0\n",
       "2  10248/72    10248         72       34.8         5       0.0\n",
       "3  10249/14    10249         14       18.6         9       0.0\n",
       "4  10249/51    10249         51       42.4        40       0.0"
      ]
     },
     "execution_count": 4,
     "metadata": {},
     "output_type": "execute_result"
    }
   ],
   "source": [
    "table = 'OrderDetail'\n",
    "t.sql.preview(data,table)"
   ]
  },
  {
   "cell_type": "code",
   "execution_count": 5,
   "metadata": {},
   "outputs": [
    {
     "data": {
      "text/html": [
       "<div>\n",
       "<style scoped>\n",
       "    .dataframe tbody tr th:only-of-type {\n",
       "        vertical-align: middle;\n",
       "    }\n",
       "\n",
       "    .dataframe tbody tr th {\n",
       "        vertical-align: top;\n",
       "    }\n",
       "\n",
       "    .dataframe thead th {\n",
       "        text-align: right;\n",
       "    }\n",
       "</style>\n",
       "<table border=\"1\" class=\"dataframe\">\n",
       "  <thead>\n",
       "    <tr style=\"text-align: right;\">\n",
       "      <th></th>\n",
       "      <th>OrderId</th>\n",
       "      <th>quantity</th>\n",
       "      <th>discount</th>\n",
       "    </tr>\n",
       "  </thead>\n",
       "  <tbody>\n",
       "    <tr>\n",
       "      <th>0</th>\n",
       "      <td>10248</td>\n",
       "      <td>27</td>\n",
       "      <td>0.000000</td>\n",
       "    </tr>\n",
       "    <tr>\n",
       "      <th>1</th>\n",
       "      <td>10249</td>\n",
       "      <td>49</td>\n",
       "      <td>0.000000</td>\n",
       "    </tr>\n",
       "    <tr>\n",
       "      <th>2</th>\n",
       "      <td>10250</td>\n",
       "      <td>60</td>\n",
       "      <td>0.100000</td>\n",
       "    </tr>\n",
       "    <tr>\n",
       "      <th>3</th>\n",
       "      <td>10251</td>\n",
       "      <td>41</td>\n",
       "      <td>0.033333</td>\n",
       "    </tr>\n",
       "    <tr>\n",
       "      <th>4</th>\n",
       "      <td>10252</td>\n",
       "      <td>105</td>\n",
       "      <td>0.033333</td>\n",
       "    </tr>\n",
       "  </tbody>\n",
       "</table>\n",
       "</div>"
      ],
      "text/plain": [
       "   OrderId  quantity  discount\n",
       "0    10248        27  0.000000\n",
       "1    10249        49  0.000000\n",
       "2    10250        60  0.100000\n",
       "3    10251        41  0.033333\n",
       "4    10252       105  0.033333"
      ]
     },
     "execution_count": 5,
     "metadata": {},
     "output_type": "execute_result"
    }
   ],
   "source": [
    "selection = 'OrderId, Sum(Quantity) as quantity, avg(discount) as discount'\n",
    "column = 'OrderId'\n",
    "df = t.sql.groupby(data,selection,table,column)\n",
    "df.head()\n"
   ]
  },
  {
   "cell_type": "markdown",
   "metadata": {},
   "source": [
    "## 1.b Sampling"
   ]
  },
  {
   "cell_type": "code",
   "execution_count": 6,
   "metadata": {},
   "outputs": [],
   "source": [
    "no_discount = df[df.discount == 0].copy()"
   ]
  },
  {
   "cell_type": "code",
   "execution_count": 7,
   "metadata": {},
   "outputs": [
    {
     "data": {
      "text/plain": [
       "OrderId     450\n",
       "quantity    132\n",
       "discount      1\n",
       "dtype: int64"
      ]
     },
     "execution_count": 7,
     "metadata": {},
     "output_type": "execute_result"
    }
   ],
   "source": [
    "no_discount.nunique()"
   ]
  },
  {
   "cell_type": "code",
   "execution_count": 8,
   "metadata": {},
   "outputs": [],
   "source": [
    "discount = df[df.discount > 0].copy()"
   ]
  },
  {
   "cell_type": "code",
   "execution_count": 9,
   "metadata": {},
   "outputs": [],
   "source": [
    "A = no_discount.quantity"
   ]
  },
  {
   "cell_type": "code",
   "execution_count": 10,
   "metadata": {},
   "outputs": [],
   "source": [
    "B = discount.quantity"
   ]
  },
  {
   "cell_type": "code",
   "execution_count": 11,
   "metadata": {},
   "outputs": [
    {
     "data": {
      "text/plain": [
       "(450, 380)"
      ]
     },
     "execution_count": 11,
     "metadata": {},
     "output_type": "execute_result"
    }
   ],
   "source": [
    "len(A),len(B)"
   ]
  },
  {
   "cell_type": "markdown",
   "metadata": {},
   "source": [
    "## 1.c Visualizing the Sample Distribution"
   ]
  },
  {
   "cell_type": "code",
   "execution_count": 12,
   "metadata": {
    "scrolled": false
   },
   "outputs": [
    {
     "data": {
      "image/png": "[encoded data removed]",
      "text/plain": [
       "<Figure size 1152x648 with 1 Axes>"
      ]
     },
     "metadata": {},
     "output_type": "display_data"
    }
   ],
   "source": [
    "plt.style.use('seaborn')\n",
    "plt.figure(figsize=(16, 9))\n",
    "sns.distplot(A, hist_kws={ 'color':'blue', 'alpha':0.5, 'label':'No Discount'})\n",
    "sns.distplot(B, hist_kws={ 'color':'red', 'alpha':0.5, 'label':'Discount'})\n",
    "plt.legend(fontsize='xx-large')\n",
    "plt.title('Total Quantity by Average Discount', fontdict={'fontsize': 'xx-large'})\n",
    "plt.xlabel('Quantity')\n",
    "plt.show()"
   ]
  },
  {
   "cell_type": "markdown",
   "metadata": {},
   "source": [
    "## 1.d Analysis\n",
    "\n",
    "Since we have 2 samples, one varible, and do not know the population variance, we will use a parametric `Two-Sample TTest` to determine if discount on an order has a significant effect on the quantity of a product ordered. We will perform a Levene Test to see if both samples are from the same population with equal variances, before moving forward. If we reject the Levene Test null, we will use the non-parametric, Mann-Whitney Test; and if we fail to reject the Levene Test null, we will use a Two-Sample T-Test. "
   ]
  },
  {
   "cell_type": "code",
   "execution_count": 13,
   "metadata": {},
   "outputs": [
    {
     "data": {
      "text/plain": [
       "LeveneResult(statistic=1.9179524407508215, pvalue=0.16645558467542218)"
      ]
     },
     "execution_count": 13,
     "metadata": {},
     "output_type": "execute_result"
    }
   ],
   "source": [
    "stats.levene(A,B)"
   ]
  },
  {
   "cell_type": "markdown",
   "metadata": {},
   "source": [
    "- The Levene test, tests the null hypothesis that all input samples are from populations with equal variances. The p_value of 0.166 is statistically insignificant, and shows at that input samples are from a population with equal variances. We do not have enough evidence to reject the null hypothesis for Levene's test, so we will move forward with a parametric Two_Sample T-Test to determine if discount on an order has a significant effect on the quantity of a product ordered. "
   ]
  },
  {
   "cell_type": "markdown",
   "metadata": {},
   "source": [
    "#### Two Sample T-TEST"
   ]
  },
  {
   "cell_type": "code",
   "execution_count": 14,
   "metadata": {
    "scrolled": false
   },
   "outputs": [
    {
     "data": {
      "text/plain": [
       "Ttest_indResult(statistic=-5.91731561103876, pvalue=4.7876655924928625e-09)"
      ]
     },
     "execution_count": 14,
     "metadata": {},
     "output_type": "execute_result"
    }
   ],
   "source": [
    "t.stats.ttest_ind(A,B)"
   ]
  },
  {
   "cell_type": "markdown",
   "metadata": {},
   "source": [
    "* We have significant evidence to reject our null, since discounts has a significant impact on quantity ordered. We will use a two sample Cohen's D test to assess the effect size of this test statistic. "
   ]
  },
  {
   "cell_type": "markdown",
   "metadata": {},
   "source": [
    "#### Two Sample Cohen's D Test"
   ]
  },
  {
   "cell_type": "code",
   "execution_count": 15,
   "metadata": {},
   "outputs": [
    {
     "data": {
      "text/plain": [
       "-0.4122548036363552"
      ]
     },
     "execution_count": 15,
     "metadata": {},
     "output_type": "execute_result"
    }
   ],
   "source": [
    "effect_size = t.two_samp.cohens_d_two_samp(A,B)\n",
    "effect_size"
   ]
  },
  {
   "cell_type": "markdown",
   "metadata": {},
   "source": [
    "* With a Cohen's D value of `.4`, we can see that the discount has a small effect on quantity."
   ]
  },
  {
   "cell_type": "code",
   "execution_count": 16,
   "metadata": {},
   "outputs": [
    {
     "name": "stdout",
     "output_type": "stream",
     "text": [
      "Power of effect: 1.0\n"
     ]
    }
   ],
   "source": [
    "effect_size, nobs, alpha = effect_size, A.shape[0], 0.05\n",
    "power = tt_ind_solve_power(effect_size=effect_size, nobs1=nobs, alpha=0.05)\n",
    "print('Power of effect:',power)"
   ]
  },
  {
   "cell_type": "markdown",
   "metadata": {},
   "source": [
    "* After a power analysis of of 100%, we are certain that we have a 0% chance of making a type II error."
   ]
  },
  {
   "cell_type": "markdown",
   "metadata": {},
   "source": [
    "## 1.e Results Summary"
   ]
  },
  {
   "cell_type": "markdown",
   "metadata": {},
   "source": [
    "* Hypothesis Test\n",
    "    * We reject the null hypothesis\n",
    "    * This means that we ave significant evidence to reject the null hypothesis.\n",
    "* Effect Size\n",
    "    * The effect size of 0.4 is very small. This shows a small impact on quantity.\n",
    "* Power Analysis\n",
    "    * After a power analysis of of 100%, we are certain that we have a 0% chance of making a type II error, where we should have rejected the null but didn't. "
   ]
  },
  {
   "cell_type": "markdown",
   "metadata": {},
   "source": [
    "**Since there is a significant effect, at what levels of discounts does this occur?**"
   ]
  },
  {
   "cell_type": "code",
   "execution_count": 17,
   "metadata": {},
   "outputs": [],
   "source": [
    "discount.discount = round(discount.discount,2)"
   ]
  },
  {
   "cell_type": "markdown",
   "metadata": {},
   "source": [
    "* Here we rounded our discount levels in the dataFrame"
   ]
  },
  {
   "cell_type": "code",
   "execution_count": 18,
   "metadata": {},
   "outputs": [],
   "source": [
    "discount.discount = discount.discount.astype('category')"
   ]
  },
  {
   "cell_type": "markdown",
   "metadata": {},
   "source": [
    "* Here we converted the discount column to a category"
   ]
  },
  {
   "cell_type": "code",
   "execution_count": 19,
   "metadata": {
    "scrolled": false
   },
   "outputs": [
    {
     "data": {
      "image/png": "[encoded data removed]",
      "text/plain": [
       "<Figure size 720x432 with 1 Axes>"
      ]
     },
     "metadata": {},
     "output_type": "display_data"
    }
   ],
   "source": [
    "from statsmodels.stats.multicomp import pairwise_tukeyhsd\n",
    "tukey_results = pairwise_tukeyhsd(discount['quantity'], discount['discount'],.05)\n",
    "tukey_results.plot_simultaneous(comparison_name=0.09);"
   ]
  },
  {
   "cell_type": "markdown",
   "metadata": {},
   "source": [
    "* Here we used the tukey's pair wise comparison to show which discount amount has the most significant impact on quantity ordered. We see that around 9% percent discount yields higher quantities on average across all historic orders."
   ]
  },
  {
   "cell_type": "markdown",
   "metadata": {},
   "source": [
    "## 1.f Recommendation"
   ]
  },
  {
   "cell_type": "markdown",
   "metadata": {},
   "source": [
    "On average, customers order quantinty increases at around 9%. Our recommendation around order discounts would be to create a campaign for 9% discounts to current and future customers in the selected area of expansion. This targeted campaign will significantly increase order quantity, in any new regions or territories of expansion."
   ]
  },
  {
   "cell_type": "markdown",
   "metadata": {},
   "source": [
    "[Top](#Table-of-Contents)\n"
   ]
  },
  {
   "cell_type": "markdown",
   "metadata": {},
   "source": [
    "# 2. Second Question"
   ]
  },
  {
   "cell_type": "markdown",
   "metadata": {},
   "source": [
    "# *Are US employees generating the same profit on average as UK employees?*"
   ]
  },
  {
   "cell_type": "markdown",
   "metadata": {},
   "source": [
    "## Hypothesis Test"
   ]
  },
  {
   "cell_type": "markdown",
   "metadata": {},
   "source": [
    "* H0 = AVG US employee sales = AVG employee sales in UK\n",
    "* H1 = AVG US employee sales != AVG employee sales in UK"
   ]
  },
  {
   "cell_type": "code",
   "execution_count": 20,
   "metadata": {},
   "outputs": [
    {
     "data": {
      "text/plain": [
       "Index(['OrderId', 'EmployeeId', 'Title', 'Region', 'Country', 'ProductName',\n",
       "       'Quantity', 'RetailPrice', 'CostofGoods', 'Discount', 'AVG_Revenue',\n",
       "       'AVG_Profit'],\n",
       "      dtype='object')"
      ]
     },
     "execution_count": 20,
     "metadata": {},
     "output_type": "execute_result"
    }
   ],
   "source": [
    "conn = sqlite3.Connection(data)\n",
    "cur = conn.cursor()\n",
    "cur.execute(\n",
    "\"\"\"\n",
    "SELECT od.OrderID, o.EmployeeId, e.Title,e.Region,e.Country,p.ProductName,od.Quantity, od.UnitPrice as RetailPrice, Freight as CostofGoods,od.Discount,AVG(od.UnitPrice*od.Quantity) as AVG_Revenue, AVG((od.UnitPrice*od.Quantity)-Freight) as AVG_Profit\n",
    "FROM [Order] o\n",
    "Join OrderDetail od\n",
    "ON o.Id = od.OrderID\n",
    "JOIN Employee e\n",
    "ON o.EmployeeId = e.Id\n",
    "Join Product p\n",
    "ON od.ProductId = p.Id\n",
    "GROUP BY od.OrderID\n",
    "\n",
    "\"\"\")\n",
    "orders_with_employees = pd.DataFrame(cur.fetchall())\n",
    "orders_with_employees.columns = [x[0] for x in cur.description]\n",
    "orders_with_employees.columns"
   ]
  },
  {
   "cell_type": "code",
   "execution_count": 21,
   "metadata": {},
   "outputs": [
    {
     "data": {
      "text/plain": [
       "array(['UK', 'USA'], dtype=object)"
      ]
     },
     "execution_count": 21,
     "metadata": {},
     "output_type": "execute_result"
    }
   ],
   "source": [
    "orders_with_employees.Country.unique()"
   ]
  },
  {
   "cell_type": "code",
   "execution_count": 22,
   "metadata": {},
   "outputs": [
    {
     "data": {
      "text/plain": [
       "9"
      ]
     },
     "execution_count": 22,
     "metadata": {},
     "output_type": "execute_result"
    }
   ],
   "source": [
    "orders_with_employees.EmployeeId.nunique()"
   ]
  },
  {
   "cell_type": "code",
   "execution_count": 23,
   "metadata": {
    "scrolled": true
   },
   "outputs": [
    {
     "data": {
      "text/plain": [
       "5"
      ]
     },
     "execution_count": 23,
     "metadata": {},
     "output_type": "execute_result"
    }
   ],
   "source": [
    "orders_with_employees[orders_with_employees.Country=='USA'].EmployeeId.nunique()"
   ]
  },
  {
   "cell_type": "code",
   "execution_count": 24,
   "metadata": {
    "scrolled": true
   },
   "outputs": [
    {
     "data": {
      "text/plain": [
       "4"
      ]
     },
     "execution_count": 24,
     "metadata": {},
     "output_type": "execute_result"
    }
   ],
   "source": [
    "orders_with_employees[orders_with_employees.Country=='UK'].EmployeeId.nunique()"
   ]
  },
  {
   "cell_type": "markdown",
   "metadata": {},
   "source": [
    "## Sampling"
   ]
  },
  {
   "cell_type": "code",
   "execution_count": 25,
   "metadata": {},
   "outputs": [],
   "source": [
    "usa = orders_with_employees[orders_with_employees.Country=='USA'].AVG_Profit"
   ]
  },
  {
   "cell_type": "code",
   "execution_count": 26,
   "metadata": {},
   "outputs": [],
   "source": [
    "uk = orders_with_employees[orders_with_employees.Country=='UK'].AVG_Profit"
   ]
  },
  {
   "cell_type": "code",
   "execution_count": 27,
   "metadata": {},
   "outputs": [
    {
     "data": {
      "text/plain": [
       "(606, 224)"
      ]
     },
     "execution_count": 27,
     "metadata": {},
     "output_type": "execute_result"
    }
   ],
   "source": [
    "len(usa), len(uk)"
   ]
  },
  {
   "cell_type": "markdown",
   "metadata": {},
   "source": [
    "## Visualizing the Sample Distribution"
   ]
  },
  {
   "cell_type": "code",
   "execution_count": 28,
   "metadata": {},
   "outputs": [
    {
     "data": {
      "image/png": "[encoded data removed]",
      "text/plain": [
       "<Figure size 1152x648 with 1 Axes>"
      ]
     },
     "metadata": {},
     "output_type": "display_data"
    }
   ],
   "source": [
    "plt.style.use('seaborn')\n",
    "plt.figure(figsize=(16, 9))\n",
    "sns.distplot(usa, hist_kws={ 'color':'blue', 'alpha':0.5, 'label':'North America'})\n",
    "sns.distplot(uk, hist_kws={ 'color':'red', 'alpha':0.5, 'label':'UK'})\n",
    "plt.legend(fontsize='xx-large')\n",
    "plt.title('AVG Profit by Region', fontdict={'fontsize': 'xx-large'})\n",
    "plt.show()"
   ]
  },
  {
   "cell_type": "markdown",
   "metadata": {},
   "source": [
    "## Analysis\n",
    "Since we have have 2 samples, one varible, and do not know the population variance, we will perform a Levene Test to see if both samples are from the same population with equal variances. If we reject the nul, we will use the non-parametric, Mann-Whitney Test; and if we fail to reject the null, we will use a Two-Sample T-Test. "
   ]
  },
  {
   "cell_type": "code",
   "execution_count": 29,
   "metadata": {},
   "outputs": [
    {
     "data": {
      "text/plain": [
       "LeveneResult(statistic=0.011066634958648208, pvalue=0.9162441164298951)"
      ]
     },
     "execution_count": 29,
     "metadata": {},
     "output_type": "execute_result"
    }
   ],
   "source": [
    "stats.levene(usa,uk)"
   ]
  },
  {
   "cell_type": "markdown",
   "metadata": {},
   "source": [
    "* The Levene test tests the null hypothesis that all input samples are from populations with equal variances. The p_value is statistically insignificant, and shows at that input samples are from a population with equal variances. We do not have enough evidence to reject the null hypothesis for Levene's test, so we will move forward with a parametric Two_Sample T-Test, but before we move forward, let's do a KS Test to check for normal distribution."
   ]
  },
  {
   "cell_type": "code",
   "execution_count": 30,
   "metadata": {},
   "outputs": [
    {
     "data": {
      "text/plain": [
       "Ks_2sampResult(statistic=0.0658003300330033, pvalue=0.4547582625565251)"
      ]
     },
     "execution_count": 30,
     "metadata": {},
     "output_type": "execute_result"
    }
   ],
   "source": [
    "t.stats.ks_2samp(usa,uk)"
   ]
  },
  {
   "cell_type": "code",
   "execution_count": 31,
   "metadata": {
    "scrolled": false
   },
   "outputs": [
    {
     "data": {
      "image/png": "[encoded data removed]",
      "text/plain": [
       "<Figure size 864x504 with 1 Axes>"
      ]
     },
     "metadata": {},
     "output_type": "display_data"
    }
   ],
   "source": [
    "t.two_samp.ks_plot_2sample(usa,uk)"
   ]
  },
  {
   "cell_type": "markdown",
   "metadata": {},
   "source": [
    "* The Cummulative Distribution Functions for both samples are closely aligned, confirming normality for the Two-Sample T-Test."
   ]
  },
  {
   "cell_type": "code",
   "execution_count": 32,
   "metadata": {},
   "outputs": [
    {
     "data": {
      "text/plain": [
       "Ttest_indResult(statistic=-0.0800294652261829, pvalue=0.9362331594416462)"
      ]
     },
     "execution_count": 32,
     "metadata": {},
     "output_type": "execute_result"
    }
   ],
   "source": [
    "stats.ttest_ind(usa,uk)"
   ]
  },
  {
   "cell_type": "markdown",
   "metadata": {},
   "source": [
    "* The p_value of 0.936 is statistically insignificant and lacks the evidence to reject the null hypothesis."
   ]
  },
  {
   "cell_type": "code",
   "execution_count": 33,
   "metadata": {
    "scrolled": true
   },
   "outputs": [
    {
     "data": {
      "text/plain": [
       "-0.006257900300692055"
      ]
     },
     "execution_count": 33,
     "metadata": {},
     "output_type": "execute_result"
    }
   ],
   "source": [
    "effect_size = t.two_samp.cohens_d_two_samp(usa,uk)\n",
    "effect_size"
   ]
  },
  {
   "cell_type": "markdown",
   "metadata": {},
   "source": [
    "* This effect size of 0 has a very small influence on average sales between groups"
   ]
  },
  {
   "cell_type": "code",
   "execution_count": 34,
   "metadata": {},
   "outputs": [
    {
     "data": {
      "text/plain": [
       "0.05135820587504291"
      ]
     },
     "execution_count": 34,
     "metadata": {},
     "output_type": "execute_result"
    }
   ],
   "source": [
    "effect_size, nobs, alpha = effect_size, usa.shape[0], 0.05\n",
    "power = tt_ind_solve_power(effect_size=effect_size, nobs1=nobs, alpha=0.05)\n",
    "power"
   ]
  },
  {
   "cell_type": "markdown",
   "metadata": {},
   "source": [
    "* This shows our beta, or power, at only 50%; which is too low to be significant. "
   ]
  },
  {
   "cell_type": "markdown",
   "metadata": {},
   "source": [
    "## 2.e Results Summary"
   ]
  },
  {
   "cell_type": "markdown",
   "metadata": {},
   "source": [
    "## Summary\n",
    "\n",
    "* Hypothesis Test\n",
    "    * We fail to reject the null hypothesis\n",
    "    * This means that we do not have significant evidence to reject the null hypothesis.\n",
    "* Effect Size\n",
    "    * The effect size of 0 is very small. This shows no difference in average sales between US and UK teams.\n",
    "* Power Analysis\n",
    "    * After a power analysis, we are about only 50% certain of making a Type II error; where we should have rejected the null but didn't."
   ]
  },
  {
   "cell_type": "markdown",
   "metadata": {},
   "source": [
    "## 2.f Recommendation"
   ]
  },
  {
   "cell_type": "markdown",
   "metadata": {},
   "source": [
    "On average, we do not see a significant difference in profit generatation between countries. Our recommendation would be to expand offices in other regions to replicate the profit generated from teams in the US and the UK."
   ]
  },
  {
   "cell_type": "code",
   "execution_count": 35,
   "metadata": {},
   "outputs": [
    {
     "data": {
      "image/png": "[encoded data removed]",
      "text/plain": [
       "<Figure size 1152x648 with 1 Axes>"
      ]
     },
     "metadata": {},
     "output_type": "display_data"
    }
   ],
   "source": [
    "plt.style.use('seaborn')\n",
    "plt.figure(figsize=(16, 9))\n",
    "plt.bar(orders_with_employees.Country,orders_with_employees.AVG_Profit.mean())\n",
    "plt.title('Avg Profit by Country')\n",
    "plt.xlabel('Country')\n",
    "plt.ylabel('AVG Profit')\n",
    "plt.show()"
   ]
  },
  {
   "cell_type": "markdown",
   "metadata": {},
   "source": [
    "[Top](#Table-of-Contents)\n"
   ]
  },
  {
   "cell_type": "markdown",
   "metadata": {},
   "source": [
    "# 3. Third Question\n",
    "# *On average, are our teams generating more profit from inside sales or outside sales in the US?*"
   ]
  },
  {
   "cell_type": "markdown",
   "metadata": {},
   "source": [
    "## 3.a Hypothesis Test"
   ]
  },
  {
   "cell_type": "markdown",
   "metadata": {},
   "source": [
    "* H0 = North America regions performs equally to all other regions\n",
    "* H1 = North america regions do not perform equally to all other regions"
   ]
  },
  {
   "cell_type": "code",
   "execution_count": 36,
   "metadata": {},
   "outputs": [
    {
     "data": {
      "text/plain": [
       "array(['Sales Manager', 'Sales Representative',\n",
       "       'Inside Sales Coordinator', 'Vice President, Sales'], dtype=object)"
      ]
     },
     "execution_count": 36,
     "metadata": {},
     "output_type": "execute_result"
    }
   ],
   "source": [
    "orders_with_employees.Title.unique()"
   ]
  },
  {
   "cell_type": "code",
   "execution_count": 37,
   "metadata": {},
   "outputs": [],
   "source": [
    "OwE = orders_with_employees[orders_with_employees.Country=='USA']"
   ]
  },
  {
   "cell_type": "markdown",
   "metadata": {},
   "source": [
    "## 3.b Sampling"
   ]
  },
  {
   "cell_type": "code",
   "execution_count": 38,
   "metadata": {},
   "outputs": [],
   "source": [
    "outside_sales = OwE[OwE.Title=='Sales Representative'].AVG_Profit"
   ]
  },
  {
   "cell_type": "code",
   "execution_count": 39,
   "metadata": {},
   "outputs": [],
   "source": [
    "inside_sales = OwE[OwE.Title=='Inside Sales Coordinator'].AVG_Profit"
   ]
  },
  {
   "cell_type": "code",
   "execution_count": 40,
   "metadata": {},
   "outputs": [
    {
     "data": {
      "text/plain": [
       "(406, 104)"
      ]
     },
     "execution_count": 40,
     "metadata": {},
     "output_type": "execute_result"
    }
   ],
   "source": [
    "len(outside_sales), len(inside_sales)"
   ]
  },
  {
   "cell_type": "markdown",
   "metadata": {},
   "source": [
    "## 3.c Visualizing the Sample Distribution"
   ]
  },
  {
   "cell_type": "code",
   "execution_count": 41,
   "metadata": {},
   "outputs": [
    {
     "data": {
      "image/png": "[encoded data removed]",
      "text/plain": [
       "<Figure size 1152x648 with 1 Axes>"
      ]
     },
     "metadata": {},
     "output_type": "display_data"
    }
   ],
   "source": [
    "plt.style.use('seaborn')\n",
    "plt.figure(figsize=(16, 9))\n",
    "sns.distplot(outside_sales, hist_kws={ 'color':'blue', 'alpha':0.5, 'label':'Outside Sales'})\n",
    "sns.distplot(inside_sales, hist_kws={ 'color':'red', 'alpha':0.5, 'label':'Inside Sales'})\n",
    "plt.legend(fontsize='xx-large')\n",
    "plt.title('AVG Revenue by USA Sales Teams', fontdict={'fontsize': 'xx-large'})\n",
    "plt.show()"
   ]
  },
  {
   "cell_type": "markdown",
   "metadata": {},
   "source": [
    "## 3.d Analysis\n",
    "Since we have have 2 samples, one varible, and do not know the population variance, we will perform a Levene Test to see if both samples are from the same population with equal variances. If we reject the nul, we will use the non-parametric, Mann-Whitney Test; and if we fail to reject the null, we will use a Two-Sample T-Test. "
   ]
  },
  {
   "cell_type": "code",
   "execution_count": 42,
   "metadata": {},
   "outputs": [
    {
     "data": {
      "text/plain": [
       "LeveneResult(statistic=1.2534068958862432, pvalue=0.2634318302086862)"
      ]
     },
     "execution_count": 42,
     "metadata": {},
     "output_type": "execute_result"
    }
   ],
   "source": [
    "stats.levene(outside_sales,inside_sales)"
   ]
  },
  {
   "cell_type": "markdown",
   "metadata": {},
   "source": [
    "* The Levene test tests the null hypothesis that all input samples are from populations with equal variances. The p_value of 0.47 is statistically significant, and shows at that input samples are not from a population with equal variances. We have enough evidence to reject the null hypothesis for Levene's test, so we will move forward with the non-parametric Mann-Whitney Test, but before we move forward, let's do a KS Test to check for normal distribution."
   ]
  },
  {
   "cell_type": "code",
   "execution_count": 43,
   "metadata": {},
   "outputs": [
    {
     "data": {
      "image/png": "[encoded data removed]",
      "text/plain": [
       "<Figure size 864x504 with 1 Axes>"
      ]
     },
     "metadata": {},
     "output_type": "display_data"
    }
   ],
   "source": [
    "t.two_samp.ks_plot_2sample(outside_sales,inside_sales)"
   ]
  },
  {
   "cell_type": "markdown",
   "metadata": {},
   "source": [
    "* The Cummulative Distribution Functions for both samples are not very aligned, confirming non-normality for the Mann-Whitney Test."
   ]
  },
  {
   "cell_type": "code",
   "execution_count": 44,
   "metadata": {},
   "outputs": [
    {
     "data": {
      "text/plain": [
       "MannwhitneyuResult(statistic=19638.0, pvalue=0.13591000835776512)"
      ]
     },
     "execution_count": 44,
     "metadata": {},
     "output_type": "execute_result"
    }
   ],
   "source": [
    "stats.mannwhitneyu(outside_sales,inside_sales)"
   ]
  },
  {
   "cell_type": "markdown",
   "metadata": {},
   "source": [
    "* The p_value of 0.1359 does not provide statistically significant between the average profit generated by outside and inside teams. We do not have significant evidence to reject the null hypothesis."
   ]
  },
  {
   "cell_type": "code",
   "execution_count": 45,
   "metadata": {},
   "outputs": [
    {
     "data": {
      "text/plain": [
       "0.13958037500349368"
      ]
     },
     "execution_count": 45,
     "metadata": {},
     "output_type": "execute_result"
    }
   ],
   "source": [
    "effect_size = t.two_samp.cohens_d_two_samp(outside_sales,inside_sales)\n",
    "effect_size"
   ]
  },
  {
   "cell_type": "markdown",
   "metadata": {},
   "source": [
    "* This effect size of .13958 has a small influence on average revenue between teams"
   ]
  },
  {
   "cell_type": "code",
   "execution_count": 46,
   "metadata": {},
   "outputs": [
    {
     "data": {
      "text/plain": [
       "0.5105673652520101"
      ]
     },
     "execution_count": 46,
     "metadata": {},
     "output_type": "execute_result"
    }
   ],
   "source": [
    "effect_size, nobs, alpha = effect_size, outside_sales.shape[0], 0.05\n",
    "power = tt_ind_solve_power(effect_size=effect_size, nobs1=nobs, alpha=0.05)\n",
    "power"
   ]
  },
  {
   "cell_type": "markdown",
   "metadata": {},
   "source": [
    "* This shows our beta, or power, at almost 51%; which is too low to be significant. "
   ]
  },
  {
   "cell_type": "markdown",
   "metadata": {},
   "source": [
    "## 3.e Results Summary"
   ]
  },
  {
   "cell_type": "markdown",
   "metadata": {},
   "source": [
    "## Summary\n",
    "\n",
    "* Hypothesis Test\n",
    "    * We reject the null hypothesis\n",
    "    * This means that we have significant evidence to reject the null hypothesis.\n",
    "* Effect Size\n",
    "    * The effect size for almost all combinations of regions and the total units was very small or medium.\n",
    "* Power Analysis\n",
    "    * After a power analysis, we are 51% certain of making a Type II error; where we should have rejected the null but didn't."
   ]
  },
  {
   "cell_type": "markdown",
   "metadata": {},
   "source": [
    "## 3.f Recommendation"
   ]
  },
  {
   "cell_type": "markdown",
   "metadata": {},
   "source": [
    "* On average, we do not see a significant difference in revenue generatation between inside and outside teams. Our recommendation would be to expand teams in other regions to replicate the profit generated from inside and outside sales in the US and the UK."
   ]
  },
  {
   "cell_type": "code",
   "execution_count": 47,
   "metadata": {},
   "outputs": [
    {
     "data": {
      "image/png": "[encoded data removed]",
      "text/plain": [
       "<Figure size 1152x648 with 1 Axes>"
      ]
     },
     "metadata": {},
     "output_type": "display_data"
    }
   ],
   "source": [
    "plt.style.use('seaborn')\n",
    "plt.figure(figsize=(16, 9))\n",
    "plt.bar(orders_with_employees.Title,orders_with_employees.AVG_Profit.mean(),color='r')\n",
    "plt.title('Avg Profit by Country')\n",
    "plt.xlabel('Title')\n",
    "plt.ylabel('AVG Profit')\n",
    "plt.show()"
   ]
  },
  {
   "cell_type": "markdown",
   "metadata": {},
   "source": [
    "[Top](#Table-of-Contents)\n"
   ]
  },
  {
   "cell_type": "markdown",
   "metadata": {},
   "source": [
    "# 4. Final Question"
   ]
  },
  {
   "cell_type": "markdown",
   "metadata": {},
   "source": [
    "# *Are all employees generating equal revenue over time?*"
   ]
  },
  {
   "cell_type": "markdown",
   "metadata": {},
   "source": [
    "## 4.a Hypothesis Test"
   ]
  },
  {
   "cell_type": "markdown",
   "metadata": {},
   "source": [
    "* H0 = Average employee revenue per order is equal across individual employees\n",
    "* H1 = Average employee revenue per order is not equal across individual employees"
   ]
  },
  {
   "cell_type": "code",
   "execution_count": 48,
   "metadata": {},
   "outputs": [
    {
     "data": {
      "text/plain": [
       "Index(['OrderId', 'OrderDate', 'EmployeeId', 'Title', 'Region', 'Country',\n",
       "       'ProductName', 'Quantity', 'RetailPrice', 'CostofGoods', 'Discount',\n",
       "       'AVG_Revenue', 'AVG_Profit'],\n",
       "      dtype='object')"
      ]
     },
     "execution_count": 48,
     "metadata": {},
     "output_type": "execute_result"
    }
   ],
   "source": [
    "cur.execute(\n",
    "\"\"\"\n",
    "SELECT od.OrderID, o.OrderDate,o.EmployeeId, e.Title,e.Region,e.Country,p.ProductName,od.Quantity, od.UnitPrice as RetailPrice, Freight as CostofGoods,od.Discount,AVG(od.UnitPrice*od.Quantity) as AVG_Revenue, AVG((od.UnitPrice*od.Quantity)-Freight) as AVG_Profit\n",
    "FROM [Order] o\n",
    "Join OrderDetail od\n",
    "ON o.Id = od.OrderID\n",
    "JOIN Employee e\n",
    "ON o.EmployeeId = e.Id\n",
    "Join Product p\n",
    "ON od.ProductId = p.Id\n",
    "GROUP BY od.OrderID\n",
    "\n",
    "\"\"\")\n",
    "orders_with_employees = pd.DataFrame(cur.fetchall())\n",
    "orders_with_employees.columns = [x[0] for x in cur.description]\n",
    "orders_with_employees.columns"
   ]
  },
  {
   "cell_type": "code",
   "execution_count": 49,
   "metadata": {},
   "outputs": [
    {
     "data": {
      "text/html": [
       "<div>\n",
       "<style scoped>\n",
       "    .dataframe tbody tr th:only-of-type {\n",
       "        vertical-align: middle;\n",
       "    }\n",
       "\n",
       "    .dataframe tbody tr th {\n",
       "        vertical-align: top;\n",
       "    }\n",
       "\n",
       "    .dataframe thead th {\n",
       "        text-align: right;\n",
       "    }\n",
       "</style>\n",
       "<table border=\"1\" class=\"dataframe\">\n",
       "  <thead>\n",
       "    <tr style=\"text-align: right;\">\n",
       "      <th></th>\n",
       "      <th>OrderId</th>\n",
       "      <th>OrderDate</th>\n",
       "      <th>EmployeeId</th>\n",
       "      <th>Title</th>\n",
       "      <th>Region</th>\n",
       "      <th>Country</th>\n",
       "      <th>ProductName</th>\n",
       "      <th>Quantity</th>\n",
       "      <th>RetailPrice</th>\n",
       "      <th>CostofGoods</th>\n",
       "      <th>Discount</th>\n",
       "      <th>AVG_Revenue</th>\n",
       "      <th>AVG_Profit</th>\n",
       "    </tr>\n",
       "  </thead>\n",
       "  <tbody>\n",
       "    <tr>\n",
       "      <th>0</th>\n",
       "      <td>10248</td>\n",
       "      <td>2012-07-04</td>\n",
       "      <td>5</td>\n",
       "      <td>Sales Manager</td>\n",
       "      <td>British Isles</td>\n",
       "      <td>UK</td>\n",
       "      <td>Queso Cabrales</td>\n",
       "      <td>12</td>\n",
       "      <td>14.0</td>\n",
       "      <td>32.38</td>\n",
       "      <td>0.00</td>\n",
       "      <td>146.666667</td>\n",
       "      <td>114.286667</td>\n",
       "    </tr>\n",
       "    <tr>\n",
       "      <th>1</th>\n",
       "      <td>10249</td>\n",
       "      <td>2012-07-05</td>\n",
       "      <td>6</td>\n",
       "      <td>Sales Representative</td>\n",
       "      <td>British Isles</td>\n",
       "      <td>UK</td>\n",
       "      <td>Tofu</td>\n",
       "      <td>9</td>\n",
       "      <td>18.6</td>\n",
       "      <td>11.61</td>\n",
       "      <td>0.00</td>\n",
       "      <td>931.700000</td>\n",
       "      <td>920.090000</td>\n",
       "    </tr>\n",
       "    <tr>\n",
       "      <th>2</th>\n",
       "      <td>10250</td>\n",
       "      <td>2012-07-08</td>\n",
       "      <td>4</td>\n",
       "      <td>Sales Representative</td>\n",
       "      <td>North America</td>\n",
       "      <td>USA</td>\n",
       "      <td>Jack's New England Clam Chowder</td>\n",
       "      <td>10</td>\n",
       "      <td>7.7</td>\n",
       "      <td>65.83</td>\n",
       "      <td>0.00</td>\n",
       "      <td>604.333333</td>\n",
       "      <td>538.503333</td>\n",
       "    </tr>\n",
       "    <tr>\n",
       "      <th>3</th>\n",
       "      <td>10251</td>\n",
       "      <td>2012-07-08</td>\n",
       "      <td>3</td>\n",
       "      <td>Sales Representative</td>\n",
       "      <td>North America</td>\n",
       "      <td>USA</td>\n",
       "      <td>Gustaf's Knäckebröd</td>\n",
       "      <td>6</td>\n",
       "      <td>16.8</td>\n",
       "      <td>41.34</td>\n",
       "      <td>0.05</td>\n",
       "      <td>223.600000</td>\n",
       "      <td>182.260000</td>\n",
       "    </tr>\n",
       "    <tr>\n",
       "      <th>4</th>\n",
       "      <td>10252</td>\n",
       "      <td>2012-07-09</td>\n",
       "      <td>4</td>\n",
       "      <td>Sales Representative</td>\n",
       "      <td>North America</td>\n",
       "      <td>USA</td>\n",
       "      <td>Sir Rodney's Marmalade</td>\n",
       "      <td>40</td>\n",
       "      <td>64.8</td>\n",
       "      <td>51.30</td>\n",
       "      <td>0.05</td>\n",
       "      <td>1243.333333</td>\n",
       "      <td>1192.033333</td>\n",
       "    </tr>\n",
       "  </tbody>\n",
       "</table>\n",
       "</div>"
      ],
      "text/plain": [
       "   OrderId   OrderDate  EmployeeId                 Title         Region  \\\n",
       "0    10248  2012-07-04           5         Sales Manager  British Isles   \n",
       "1    10249  2012-07-05           6  Sales Representative  British Isles   \n",
       "2    10250  2012-07-08           4  Sales Representative  North America   \n",
       "3    10251  2012-07-08           3  Sales Representative  North America   \n",
       "4    10252  2012-07-09           4  Sales Representative  North America   \n",
       "\n",
       "  Country                      ProductName  Quantity  RetailPrice  \\\n",
       "0      UK                   Queso Cabrales        12         14.0   \n",
       "1      UK                             Tofu         9         18.6   \n",
       "2     USA  Jack's New England Clam Chowder        10          7.7   \n",
       "3     USA              Gustaf's Knäckebröd         6         16.8   \n",
       "4     USA           Sir Rodney's Marmalade        40         64.8   \n",
       "\n",
       "   CostofGoods  Discount  AVG_Revenue   AVG_Profit  \n",
       "0        32.38      0.00   146.666667   114.286667  \n",
       "1        11.61      0.00   931.700000   920.090000  \n",
       "2        65.83      0.00   604.333333   538.503333  \n",
       "3        41.34      0.05   223.600000   182.260000  \n",
       "4        51.30      0.05  1243.333333  1192.033333  "
      ]
     },
     "execution_count": 49,
     "metadata": {},
     "output_type": "execute_result"
    }
   ],
   "source": [
    "orders_with_employees.head()"
   ]
  },
  {
   "cell_type": "code",
   "execution_count": 50,
   "metadata": {},
   "outputs": [
    {
     "name": "stdout",
     "output_type": "stream",
     "text": [
      "<class 'pandas.core.frame.DataFrame'>\n",
      "RangeIndex: 830 entries, 0 to 829\n",
      "Data columns (total 13 columns):\n",
      "OrderId        830 non-null int64\n",
      "OrderDate      830 non-null datetime64[ns]\n",
      "EmployeeId     830 non-null int64\n",
      "Title          830 non-null object\n",
      "Region         830 non-null object\n",
      "Country        830 non-null object\n",
      "ProductName    830 non-null object\n",
      "Quantity       830 non-null int64\n",
      "RetailPrice    830 non-null float64\n",
      "CostofGoods    830 non-null float64\n",
      "Discount       830 non-null float64\n",
      "AVG_Revenue    830 non-null float64\n",
      "AVG_Profit     830 non-null float64\n",
      "dtypes: datetime64[ns](1), float64(5), int64(3), object(4)\n",
      "memory usage: 84.4+ KB\n"
     ]
    }
   ],
   "source": [
    "orders_with_employees['OrderDate'] =  pd.to_datetime(orders_with_employees['OrderDate'], format='%Y-%m-%d')\n",
    "orders_with_employees.info()"
   ]
  },
  {
   "cell_type": "code",
   "execution_count": 51,
   "metadata": {
    "scrolled": true
   },
   "outputs": [
    {
     "data": {
      "text/html": [
       "<div>\n",
       "<style scoped>\n",
       "    .dataframe tbody tr th:only-of-type {\n",
       "        vertical-align: middle;\n",
       "    }\n",
       "\n",
       "    .dataframe tbody tr th {\n",
       "        vertical-align: top;\n",
       "    }\n",
       "\n",
       "    .dataframe thead th {\n",
       "        text-align: right;\n",
       "    }\n",
       "</style>\n",
       "<table border=\"1\" class=\"dataframe\">\n",
       "  <thead>\n",
       "    <tr style=\"text-align: right;\">\n",
       "      <th>EmployeeId</th>\n",
       "      <th>1</th>\n",
       "      <th>2</th>\n",
       "      <th>3</th>\n",
       "      <th>4</th>\n",
       "      <th>5</th>\n",
       "      <th>6</th>\n",
       "      <th>7</th>\n",
       "      <th>8</th>\n",
       "      <th>9</th>\n",
       "    </tr>\n",
       "    <tr>\n",
       "      <th>OrderDate</th>\n",
       "      <th></th>\n",
       "      <th></th>\n",
       "      <th></th>\n",
       "      <th></th>\n",
       "      <th></th>\n",
       "      <th></th>\n",
       "      <th></th>\n",
       "      <th></th>\n",
       "      <th></th>\n",
       "    </tr>\n",
       "  </thead>\n",
       "  <tbody>\n",
       "    <tr>\n",
       "      <th>2012-07-04</th>\n",
       "      <td>0.00</td>\n",
       "      <td>0.00</td>\n",
       "      <td>0.00</td>\n",
       "      <td>0.00</td>\n",
       "      <td>114.29</td>\n",
       "      <td>0.00</td>\n",
       "      <td>0.00</td>\n",
       "      <td>0.00</td>\n",
       "      <td>0.00</td>\n",
       "    </tr>\n",
       "    <tr>\n",
       "      <th>2012-07-05</th>\n",
       "      <td>0.00</td>\n",
       "      <td>0.00</td>\n",
       "      <td>0.00</td>\n",
       "      <td>0.00</td>\n",
       "      <td>0.00</td>\n",
       "      <td>920.09</td>\n",
       "      <td>0.00</td>\n",
       "      <td>0.00</td>\n",
       "      <td>0.00</td>\n",
       "    </tr>\n",
       "    <tr>\n",
       "      <th>2012-07-08</th>\n",
       "      <td>0.00</td>\n",
       "      <td>0.00</td>\n",
       "      <td>182.26</td>\n",
       "      <td>538.50</td>\n",
       "      <td>0.00</td>\n",
       "      <td>0.00</td>\n",
       "      <td>0.00</td>\n",
       "      <td>0.00</td>\n",
       "      <td>0.00</td>\n",
       "    </tr>\n",
       "    <tr>\n",
       "      <th>2012-07-09</th>\n",
       "      <td>0.00</td>\n",
       "      <td>0.00</td>\n",
       "      <td>0.00</td>\n",
       "      <td>1192.03</td>\n",
       "      <td>0.00</td>\n",
       "      <td>0.00</td>\n",
       "      <td>0.00</td>\n",
       "      <td>0.00</td>\n",
       "      <td>0.00</td>\n",
       "    </tr>\n",
       "    <tr>\n",
       "      <th>2012-07-10</th>\n",
       "      <td>0.00</td>\n",
       "      <td>0.00</td>\n",
       "      <td>423.43</td>\n",
       "      <td>0.00</td>\n",
       "      <td>0.00</td>\n",
       "      <td>0.00</td>\n",
       "      <td>0.00</td>\n",
       "      <td>0.00</td>\n",
       "      <td>0.00</td>\n",
       "    </tr>\n",
       "    <tr>\n",
       "      <th>2012-07-11</th>\n",
       "      <td>0.00</td>\n",
       "      <td>0.00</td>\n",
       "      <td>0.00</td>\n",
       "      <td>0.00</td>\n",
       "      <td>185.42</td>\n",
       "      <td>0.00</td>\n",
       "      <td>0.00</td>\n",
       "      <td>0.00</td>\n",
       "      <td>0.00</td>\n",
       "    </tr>\n",
       "    <tr>\n",
       "      <th>2012-07-12</th>\n",
       "      <td>0.00</td>\n",
       "      <td>0.00</td>\n",
       "      <td>0.00</td>\n",
       "      <td>0.00</td>\n",
       "      <td>0.00</td>\n",
       "      <td>0.00</td>\n",
       "      <td>0.00</td>\n",
       "      <td>0.00</td>\n",
       "      <td>474.29</td>\n",
       "    </tr>\n",
       "    <tr>\n",
       "      <th>2012-07-15</th>\n",
       "      <td>0.00</td>\n",
       "      <td>0.00</td>\n",
       "      <td>244.93</td>\n",
       "      <td>0.00</td>\n",
       "      <td>0.00</td>\n",
       "      <td>0.00</td>\n",
       "      <td>0.00</td>\n",
       "      <td>0.00</td>\n",
       "      <td>0.00</td>\n",
       "    </tr>\n",
       "    <tr>\n",
       "      <th>2012-07-16</th>\n",
       "      <td>0.00</td>\n",
       "      <td>0.00</td>\n",
       "      <td>0.00</td>\n",
       "      <td>291.39</td>\n",
       "      <td>0.00</td>\n",
       "      <td>0.00</td>\n",
       "      <td>0.00</td>\n",
       "      <td>0.00</td>\n",
       "      <td>0.00</td>\n",
       "    </tr>\n",
       "    <tr>\n",
       "      <th>2012-07-17</th>\n",
       "      <td>532.36</td>\n",
       "      <td>0.00</td>\n",
       "      <td>0.00</td>\n",
       "      <td>0.00</td>\n",
       "      <td>0.00</td>\n",
       "      <td>0.00</td>\n",
       "      <td>0.00</td>\n",
       "      <td>0.00</td>\n",
       "      <td>0.00</td>\n",
       "    </tr>\n",
       "    <tr>\n",
       "      <th>2012-07-18</th>\n",
       "      <td>0.00</td>\n",
       "      <td>0.00</td>\n",
       "      <td>0.00</td>\n",
       "      <td>47.15</td>\n",
       "      <td>0.00</td>\n",
       "      <td>0.00</td>\n",
       "      <td>0.00</td>\n",
       "      <td>0.00</td>\n",
       "      <td>0.00</td>\n",
       "    </tr>\n",
       "    <tr>\n",
       "      <th>2012-07-19</th>\n",
       "      <td>0.00</td>\n",
       "      <td>0.00</td>\n",
       "      <td>0.00</td>\n",
       "      <td>301.20</td>\n",
       "      <td>0.00</td>\n",
       "      <td>0.00</td>\n",
       "      <td>0.00</td>\n",
       "      <td>0.00</td>\n",
       "      <td>0.00</td>\n",
       "    </tr>\n",
       "    <tr>\n",
       "      <th>2012-07-22</th>\n",
       "      <td>0.00</td>\n",
       "      <td>0.00</td>\n",
       "      <td>0.00</td>\n",
       "      <td>0.00</td>\n",
       "      <td>0.00</td>\n",
       "      <td>0.00</td>\n",
       "      <td>0.00</td>\n",
       "      <td>159.98</td>\n",
       "      <td>0.00</td>\n",
       "    </tr>\n",
       "    <tr>\n",
       "      <th>2012-07-23</th>\n",
       "      <td>0.00</td>\n",
       "      <td>0.00</td>\n",
       "      <td>0.00</td>\n",
       "      <td>0.00</td>\n",
       "      <td>0.00</td>\n",
       "      <td>0.00</td>\n",
       "      <td>0.00</td>\n",
       "      <td>0.00</td>\n",
       "      <td>470.14</td>\n",
       "    </tr>\n",
       "    <tr>\n",
       "      <th>2012-07-24</th>\n",
       "      <td>0.00</td>\n",
       "      <td>0.00</td>\n",
       "      <td>0.00</td>\n",
       "      <td>0.00</td>\n",
       "      <td>0.00</td>\n",
       "      <td>358.58</td>\n",
       "      <td>0.00</td>\n",
       "      <td>0.00</td>\n",
       "      <td>0.00</td>\n",
       "    </tr>\n",
       "    <tr>\n",
       "      <th>2012-07-25</th>\n",
       "      <td>0.00</td>\n",
       "      <td>532.72</td>\n",
       "      <td>0.00</td>\n",
       "      <td>0.00</td>\n",
       "      <td>0.00</td>\n",
       "      <td>0.00</td>\n",
       "      <td>0.00</td>\n",
       "      <td>0.00</td>\n",
       "      <td>0.00</td>\n",
       "    </tr>\n",
       "    <tr>\n",
       "      <th>2012-07-26</th>\n",
       "      <td>0.00</td>\n",
       "      <td>0.00</td>\n",
       "      <td>339.07</td>\n",
       "      <td>0.00</td>\n",
       "      <td>0.00</td>\n",
       "      <td>0.00</td>\n",
       "      <td>0.00</td>\n",
       "      <td>0.00</td>\n",
       "      <td>0.00</td>\n",
       "    </tr>\n",
       "    <tr>\n",
       "      <th>2012-07-29</th>\n",
       "      <td>0.00</td>\n",
       "      <td>0.00</td>\n",
       "      <td>0.00</td>\n",
       "      <td>1135.09</td>\n",
       "      <td>0.00</td>\n",
       "      <td>0.00</td>\n",
       "      <td>0.00</td>\n",
       "      <td>0.00</td>\n",
       "      <td>0.00</td>\n",
       "    </tr>\n",
       "    <tr>\n",
       "      <th>2012-07-30</th>\n",
       "      <td>0.00</td>\n",
       "      <td>0.00</td>\n",
       "      <td>0.00</td>\n",
       "      <td>0.00</td>\n",
       "      <td>0.00</td>\n",
       "      <td>0.00</td>\n",
       "      <td>0.00</td>\n",
       "      <td>484.31</td>\n",
       "      <td>0.00</td>\n",
       "    </tr>\n",
       "    <tr>\n",
       "      <th>2012-07-31</th>\n",
       "      <td>0.00</td>\n",
       "      <td>0.00</td>\n",
       "      <td>0.00</td>\n",
       "      <td>0.00</td>\n",
       "      <td>333.44</td>\n",
       "      <td>0.00</td>\n",
       "      <td>0.00</td>\n",
       "      <td>0.00</td>\n",
       "      <td>0.00</td>\n",
       "    </tr>\n",
       "    <tr>\n",
       "      <th>2012-08-01</th>\n",
       "      <td>551.46</td>\n",
       "      <td>0.00</td>\n",
       "      <td>0.00</td>\n",
       "      <td>0.00</td>\n",
       "      <td>0.00</td>\n",
       "      <td>43.46</td>\n",
       "      <td>0.00</td>\n",
       "      <td>0.00</td>\n",
       "      <td>0.00</td>\n",
       "    </tr>\n",
       "    <tr>\n",
       "      <th>2012-08-02</th>\n",
       "      <td>0.00</td>\n",
       "      <td>0.00</td>\n",
       "      <td>0.00</td>\n",
       "      <td>0.00</td>\n",
       "      <td>0.00</td>\n",
       "      <td>387.30</td>\n",
       "      <td>0.00</td>\n",
       "      <td>0.00</td>\n",
       "      <td>0.00</td>\n",
       "    </tr>\n",
       "    <tr>\n",
       "      <th>2012-08-05</th>\n",
       "      <td>0.00</td>\n",
       "      <td>0.00</td>\n",
       "      <td>352.41</td>\n",
       "      <td>0.00</td>\n",
       "      <td>0.00</td>\n",
       "      <td>0.00</td>\n",
       "      <td>0.00</td>\n",
       "      <td>0.00</td>\n",
       "      <td>0.00</td>\n",
       "    </tr>\n",
       "    <tr>\n",
       "      <th>2012-08-06</th>\n",
       "      <td>0.00</td>\n",
       "      <td>0.00</td>\n",
       "      <td>0.00</td>\n",
       "      <td>0.00</td>\n",
       "      <td>0.00</td>\n",
       "      <td>263.29</td>\n",
       "      <td>0.00</td>\n",
       "      <td>0.00</td>\n",
       "      <td>0.00</td>\n",
       "    </tr>\n",
       "    <tr>\n",
       "      <th>2012-08-07</th>\n",
       "      <td>126.67</td>\n",
       "      <td>0.00</td>\n",
       "      <td>0.00</td>\n",
       "      <td>0.00</td>\n",
       "      <td>0.00</td>\n",
       "      <td>0.00</td>\n",
       "      <td>0.00</td>\n",
       "      <td>0.00</td>\n",
       "      <td>0.00</td>\n",
       "    </tr>\n",
       "    <tr>\n",
       "      <th>2012-08-08</th>\n",
       "      <td>0.00</td>\n",
       "      <td>0.00</td>\n",
       "      <td>0.00</td>\n",
       "      <td>0.00</td>\n",
       "      <td>0.00</td>\n",
       "      <td>0.00</td>\n",
       "      <td>0.00</td>\n",
       "      <td>196.16</td>\n",
       "      <td>0.00</td>\n",
       "    </tr>\n",
       "    <tr>\n",
       "      <th>2012-08-09</th>\n",
       "      <td>0.00</td>\n",
       "      <td>474.63</td>\n",
       "      <td>0.00</td>\n",
       "      <td>0.00</td>\n",
       "      <td>0.00</td>\n",
       "      <td>0.00</td>\n",
       "      <td>0.00</td>\n",
       "      <td>0.00</td>\n",
       "      <td>0.00</td>\n",
       "    </tr>\n",
       "    <tr>\n",
       "      <th>2012-08-12</th>\n",
       "      <td>0.00</td>\n",
       "      <td>0.00</td>\n",
       "      <td>0.00</td>\n",
       "      <td>0.00</td>\n",
       "      <td>0.00</td>\n",
       "      <td>0.00</td>\n",
       "      <td>0.00</td>\n",
       "      <td>279.51</td>\n",
       "      <td>0.00</td>\n",
       "    </tr>\n",
       "    <tr>\n",
       "      <th>2012-08-13</th>\n",
       "      <td>0.00</td>\n",
       "      <td>0.00</td>\n",
       "      <td>0.00</td>\n",
       "      <td>0.00</td>\n",
       "      <td>0.00</td>\n",
       "      <td>0.00</td>\n",
       "      <td>0.00</td>\n",
       "      <td>442.17</td>\n",
       "      <td>0.00</td>\n",
       "    </tr>\n",
       "    <tr>\n",
       "      <th>2012-08-14</th>\n",
       "      <td>0.00</td>\n",
       "      <td>195.42</td>\n",
       "      <td>0.00</td>\n",
       "      <td>25.89</td>\n",
       "      <td>0.00</td>\n",
       "      <td>0.00</td>\n",
       "      <td>0.00</td>\n",
       "      <td>0.00</td>\n",
       "      <td>0.00</td>\n",
       "    </tr>\n",
       "    <tr>\n",
       "      <th>...</th>\n",
       "      <td>...</td>\n",
       "      <td>...</td>\n",
       "      <td>...</td>\n",
       "      <td>...</td>\n",
       "      <td>...</td>\n",
       "      <td>...</td>\n",
       "      <td>...</td>\n",
       "      <td>...</td>\n",
       "      <td>...</td>\n",
       "    </tr>\n",
       "    <tr>\n",
       "      <th>2014-03-26</th>\n",
       "      <td>0.00</td>\n",
       "      <td>0.00</td>\n",
       "      <td>0.00</td>\n",
       "      <td>0.00</td>\n",
       "      <td>0.00</td>\n",
       "      <td>0.00</td>\n",
       "      <td>0.00</td>\n",
       "      <td>399.46</td>\n",
       "      <td>342.36</td>\n",
       "    </tr>\n",
       "    <tr>\n",
       "      <th>2014-03-27</th>\n",
       "      <td>15616.63</td>\n",
       "      <td>116.85</td>\n",
       "      <td>0.00</td>\n",
       "      <td>308.74</td>\n",
       "      <td>0.00</td>\n",
       "      <td>0.00</td>\n",
       "      <td>0.00</td>\n",
       "      <td>0.00</td>\n",
       "      <td>0.00</td>\n",
       "    </tr>\n",
       "    <tr>\n",
       "      <th>2014-03-30</th>\n",
       "      <td>392.03</td>\n",
       "      <td>657.89</td>\n",
       "      <td>0.00</td>\n",
       "      <td>0.00</td>\n",
       "      <td>0.00</td>\n",
       "      <td>0.00</td>\n",
       "      <td>0.00</td>\n",
       "      <td>337.14</td>\n",
       "      <td>0.00</td>\n",
       "    </tr>\n",
       "    <tr>\n",
       "      <th>2014-03-31</th>\n",
       "      <td>0.00</td>\n",
       "      <td>416.44</td>\n",
       "      <td>1824.86</td>\n",
       "      <td>0.00</td>\n",
       "      <td>0.00</td>\n",
       "      <td>0.00</td>\n",
       "      <td>0.00</td>\n",
       "      <td>738.52</td>\n",
       "      <td>0.00</td>\n",
       "    </tr>\n",
       "    <tr>\n",
       "      <th>2014-04-01</th>\n",
       "      <td>491.74</td>\n",
       "      <td>1115.14</td>\n",
       "      <td>0.00</td>\n",
       "      <td>0.00</td>\n",
       "      <td>0.00</td>\n",
       "      <td>0.00</td>\n",
       "      <td>3254.81</td>\n",
       "      <td>0.00</td>\n",
       "      <td>0.00</td>\n",
       "    </tr>\n",
       "    <tr>\n",
       "      <th>2014-04-02</th>\n",
       "      <td>552.00</td>\n",
       "      <td>924.47</td>\n",
       "      <td>0.00</td>\n",
       "      <td>558.88</td>\n",
       "      <td>0.00</td>\n",
       "      <td>0.00</td>\n",
       "      <td>0.00</td>\n",
       "      <td>0.00</td>\n",
       "      <td>0.00</td>\n",
       "    </tr>\n",
       "    <tr>\n",
       "      <th>2014-04-03</th>\n",
       "      <td>0.00</td>\n",
       "      <td>0.00</td>\n",
       "      <td>0.00</td>\n",
       "      <td>0.00</td>\n",
       "      <td>0.00</td>\n",
       "      <td>323.98</td>\n",
       "      <td>0.00</td>\n",
       "      <td>368.64</td>\n",
       "      <td>0.00</td>\n",
       "    </tr>\n",
       "    <tr>\n",
       "      <th>2014-04-06</th>\n",
       "      <td>0.00</td>\n",
       "      <td>399.08</td>\n",
       "      <td>93.76</td>\n",
       "      <td>334.34</td>\n",
       "      <td>0.00</td>\n",
       "      <td>0.00</td>\n",
       "      <td>0.00</td>\n",
       "      <td>0.00</td>\n",
       "      <td>0.00</td>\n",
       "    </tr>\n",
       "    <tr>\n",
       "      <th>2014-04-07</th>\n",
       "      <td>0.00</td>\n",
       "      <td>292.25</td>\n",
       "      <td>136.73</td>\n",
       "      <td>0.00</td>\n",
       "      <td>0.00</td>\n",
       "      <td>0.00</td>\n",
       "      <td>0.00</td>\n",
       "      <td>0.00</td>\n",
       "      <td>0.00</td>\n",
       "    </tr>\n",
       "    <tr>\n",
       "      <th>2014-04-08</th>\n",
       "      <td>0.00</td>\n",
       "      <td>174.89</td>\n",
       "      <td>0.00</td>\n",
       "      <td>0.00</td>\n",
       "      <td>0.00</td>\n",
       "      <td>0.00</td>\n",
       "      <td>1555.04</td>\n",
       "      <td>675.73</td>\n",
       "      <td>0.00</td>\n",
       "    </tr>\n",
       "    <tr>\n",
       "      <th>2014-04-09</th>\n",
       "      <td>748.38</td>\n",
       "      <td>175.52</td>\n",
       "      <td>478.79</td>\n",
       "      <td>0.00</td>\n",
       "      <td>0.00</td>\n",
       "      <td>0.00</td>\n",
       "      <td>0.00</td>\n",
       "      <td>0.00</td>\n",
       "      <td>0.00</td>\n",
       "    </tr>\n",
       "    <tr>\n",
       "      <th>2014-04-10</th>\n",
       "      <td>0.00</td>\n",
       "      <td>276.58</td>\n",
       "      <td>0.00</td>\n",
       "      <td>0.00</td>\n",
       "      <td>0.00</td>\n",
       "      <td>0.00</td>\n",
       "      <td>0.00</td>\n",
       "      <td>0.00</td>\n",
       "      <td>211.95</td>\n",
       "    </tr>\n",
       "    <tr>\n",
       "      <th>2014-04-13</th>\n",
       "      <td>0.00</td>\n",
       "      <td>0.00</td>\n",
       "      <td>0.00</td>\n",
       "      <td>513.35</td>\n",
       "      <td>0.00</td>\n",
       "      <td>34.83</td>\n",
       "      <td>0.00</td>\n",
       "      <td>0.00</td>\n",
       "      <td>1495.74</td>\n",
       "    </tr>\n",
       "    <tr>\n",
       "      <th>2014-04-14</th>\n",
       "      <td>626.17</td>\n",
       "      <td>700.70</td>\n",
       "      <td>1091.12</td>\n",
       "      <td>0.00</td>\n",
       "      <td>0.00</td>\n",
       "      <td>0.00</td>\n",
       "      <td>0.00</td>\n",
       "      <td>0.00</td>\n",
       "      <td>694.73</td>\n",
       "    </tr>\n",
       "    <tr>\n",
       "      <th>2014-04-15</th>\n",
       "      <td>0.00</td>\n",
       "      <td>0.00</td>\n",
       "      <td>0.00</td>\n",
       "      <td>442.63</td>\n",
       "      <td>0.00</td>\n",
       "      <td>120.83</td>\n",
       "      <td>0.00</td>\n",
       "      <td>0.00</td>\n",
       "      <td>0.00</td>\n",
       "    </tr>\n",
       "    <tr>\n",
       "      <th>2014-04-16</th>\n",
       "      <td>532.63</td>\n",
       "      <td>1050.41</td>\n",
       "      <td>0.00</td>\n",
       "      <td>595.56</td>\n",
       "      <td>0.00</td>\n",
       "      <td>0.00</td>\n",
       "      <td>0.00</td>\n",
       "      <td>0.00</td>\n",
       "      <td>0.00</td>\n",
       "    </tr>\n",
       "    <tr>\n",
       "      <th>2014-04-17</th>\n",
       "      <td>0.00</td>\n",
       "      <td>2361.31</td>\n",
       "      <td>0.00</td>\n",
       "      <td>0.00</td>\n",
       "      <td>0.00</td>\n",
       "      <td>251.48</td>\n",
       "      <td>2480.49</td>\n",
       "      <td>0.00</td>\n",
       "      <td>0.00</td>\n",
       "    </tr>\n",
       "    <tr>\n",
       "      <th>2014-04-20</th>\n",
       "      <td>0.00</td>\n",
       "      <td>438.45</td>\n",
       "      <td>0.00</td>\n",
       "      <td>0.00</td>\n",
       "      <td>0.00</td>\n",
       "      <td>0.00</td>\n",
       "      <td>0.00</td>\n",
       "      <td>420.50</td>\n",
       "      <td>0.00</td>\n",
       "    </tr>\n",
       "    <tr>\n",
       "      <th>2014-04-21</th>\n",
       "      <td>464.12</td>\n",
       "      <td>0.00</td>\n",
       "      <td>0.00</td>\n",
       "      <td>0.00</td>\n",
       "      <td>0.00</td>\n",
       "      <td>0.00</td>\n",
       "      <td>56.80</td>\n",
       "      <td>0.00</td>\n",
       "      <td>0.00</td>\n",
       "    </tr>\n",
       "    <tr>\n",
       "      <th>2014-04-22</th>\n",
       "      <td>0.00</td>\n",
       "      <td>172.88</td>\n",
       "      <td>895.28</td>\n",
       "      <td>181.16</td>\n",
       "      <td>201.20</td>\n",
       "      <td>0.00</td>\n",
       "      <td>0.00</td>\n",
       "      <td>0.00</td>\n",
       "      <td>0.00</td>\n",
       "    </tr>\n",
       "    <tr>\n",
       "      <th>2014-04-23</th>\n",
       "      <td>0.00</td>\n",
       "      <td>0.00</td>\n",
       "      <td>0.00</td>\n",
       "      <td>582.88</td>\n",
       "      <td>0.00</td>\n",
       "      <td>584.17</td>\n",
       "      <td>0.00</td>\n",
       "      <td>449.69</td>\n",
       "      <td>0.00</td>\n",
       "    </tr>\n",
       "    <tr>\n",
       "      <th>2014-04-24</th>\n",
       "      <td>0.00</td>\n",
       "      <td>0.00</td>\n",
       "      <td>162.66</td>\n",
       "      <td>0.00</td>\n",
       "      <td>0.00</td>\n",
       "      <td>0.00</td>\n",
       "      <td>499.76</td>\n",
       "      <td>0.00</td>\n",
       "      <td>0.00</td>\n",
       "    </tr>\n",
       "    <tr>\n",
       "      <th>2014-04-27</th>\n",
       "      <td>0.00</td>\n",
       "      <td>1166.53</td>\n",
       "      <td>765.24</td>\n",
       "      <td>0.00</td>\n",
       "      <td>0.00</td>\n",
       "      <td>0.00</td>\n",
       "      <td>42.21</td>\n",
       "      <td>840.59</td>\n",
       "      <td>0.00</td>\n",
       "    </tr>\n",
       "    <tr>\n",
       "      <th>2014-04-28</th>\n",
       "      <td>0.00</td>\n",
       "      <td>0.00</td>\n",
       "      <td>0.00</td>\n",
       "      <td>0.00</td>\n",
       "      <td>0.00</td>\n",
       "      <td>0.00</td>\n",
       "      <td>310.96</td>\n",
       "      <td>559.94</td>\n",
       "      <td>0.00</td>\n",
       "    </tr>\n",
       "    <tr>\n",
       "      <th>2014-04-29</th>\n",
       "      <td>0.00</td>\n",
       "      <td>526.87</td>\n",
       "      <td>40.87</td>\n",
       "      <td>0.00</td>\n",
       "      <td>0.00</td>\n",
       "      <td>0.00</td>\n",
       "      <td>0.00</td>\n",
       "      <td>0.00</td>\n",
       "      <td>254.86</td>\n",
       "    </tr>\n",
       "    <tr>\n",
       "      <th>2014-04-30</th>\n",
       "      <td>0.00</td>\n",
       "      <td>122.02</td>\n",
       "      <td>400.10</td>\n",
       "      <td>360.03</td>\n",
       "      <td>0.00</td>\n",
       "      <td>0.00</td>\n",
       "      <td>0.00</td>\n",
       "      <td>0.00</td>\n",
       "      <td>0.00</td>\n",
       "    </tr>\n",
       "    <tr>\n",
       "      <th>2014-05-01</th>\n",
       "      <td>914.37</td>\n",
       "      <td>0.00</td>\n",
       "      <td>0.00</td>\n",
       "      <td>0.00</td>\n",
       "      <td>0.00</td>\n",
       "      <td>0.00</td>\n",
       "      <td>264.86</td>\n",
       "      <td>113.37</td>\n",
       "      <td>0.00</td>\n",
       "    </tr>\n",
       "    <tr>\n",
       "      <th>2014-05-04</th>\n",
       "      <td>211.60</td>\n",
       "      <td>0.00</td>\n",
       "      <td>0.00</td>\n",
       "      <td>0.00</td>\n",
       "      <td>0.00</td>\n",
       "      <td>0.00</td>\n",
       "      <td>0.00</td>\n",
       "      <td>713.18</td>\n",
       "      <td>0.00</td>\n",
       "    </tr>\n",
       "    <tr>\n",
       "      <th>2014-05-05</th>\n",
       "      <td>254.07</td>\n",
       "      <td>228.71</td>\n",
       "      <td>0.00</td>\n",
       "      <td>1045.86</td>\n",
       "      <td>0.00</td>\n",
       "      <td>0.00</td>\n",
       "      <td>0.00</td>\n",
       "      <td>0.00</td>\n",
       "      <td>0.00</td>\n",
       "    </tr>\n",
       "    <tr>\n",
       "      <th>2014-05-06</th>\n",
       "      <td>46.45</td>\n",
       "      <td>0.00</td>\n",
       "      <td>0.00</td>\n",
       "      <td>314.05</td>\n",
       "      <td>0.00</td>\n",
       "      <td>0.00</td>\n",
       "      <td>225.86</td>\n",
       "      <td>189.14</td>\n",
       "      <td>0.00</td>\n",
       "    </tr>\n",
       "  </tbody>\n",
       "</table>\n",
       "<p>480 rows × 9 columns</p>\n",
       "</div>"
      ],
      "text/plain": [
       "EmployeeId         1        2        3        4       5       6        7  \\\n",
       "OrderDate                                                                  \n",
       "2012-07-04      0.00     0.00     0.00     0.00  114.29    0.00     0.00   \n",
       "2012-07-05      0.00     0.00     0.00     0.00    0.00  920.09     0.00   \n",
       "2012-07-08      0.00     0.00   182.26   538.50    0.00    0.00     0.00   \n",
       "2012-07-09      0.00     0.00     0.00  1192.03    0.00    0.00     0.00   \n",
       "2012-07-10      0.00     0.00   423.43     0.00    0.00    0.00     0.00   \n",
       "2012-07-11      0.00     0.00     0.00     0.00  185.42    0.00     0.00   \n",
       "2012-07-12      0.00     0.00     0.00     0.00    0.00    0.00     0.00   \n",
       "2012-07-15      0.00     0.00   244.93     0.00    0.00    0.00     0.00   \n",
       "2012-07-16      0.00     0.00     0.00   291.39    0.00    0.00     0.00   \n",
       "2012-07-17    532.36     0.00     0.00     0.00    0.00    0.00     0.00   \n",
       "2012-07-18      0.00     0.00     0.00    47.15    0.00    0.00     0.00   \n",
       "2012-07-19      0.00     0.00     0.00   301.20    0.00    0.00     0.00   \n",
       "2012-07-22      0.00     0.00     0.00     0.00    0.00    0.00     0.00   \n",
       "2012-07-23      0.00     0.00     0.00     0.00    0.00    0.00     0.00   \n",
       "2012-07-24      0.00     0.00     0.00     0.00    0.00  358.58     0.00   \n",
       "2012-07-25      0.00   532.72     0.00     0.00    0.00    0.00     0.00   \n",
       "2012-07-26      0.00     0.00   339.07     0.00    0.00    0.00     0.00   \n",
       "2012-07-29      0.00     0.00     0.00  1135.09    0.00    0.00     0.00   \n",
       "2012-07-30      0.00     0.00     0.00     0.00    0.00    0.00     0.00   \n",
       "2012-07-31      0.00     0.00     0.00     0.00  333.44    0.00     0.00   \n",
       "2012-08-01    551.46     0.00     0.00     0.00    0.00   43.46     0.00   \n",
       "2012-08-02      0.00     0.00     0.00     0.00    0.00  387.30     0.00   \n",
       "2012-08-05      0.00     0.00   352.41     0.00    0.00    0.00     0.00   \n",
       "2012-08-06      0.00     0.00     0.00     0.00    0.00  263.29     0.00   \n",
       "2012-08-07    126.67     0.00     0.00     0.00    0.00    0.00     0.00   \n",
       "2012-08-08      0.00     0.00     0.00     0.00    0.00    0.00     0.00   \n",
       "2012-08-09      0.00   474.63     0.00     0.00    0.00    0.00     0.00   \n",
       "2012-08-12      0.00     0.00     0.00     0.00    0.00    0.00     0.00   \n",
       "2012-08-13      0.00     0.00     0.00     0.00    0.00    0.00     0.00   \n",
       "2012-08-14      0.00   195.42     0.00    25.89    0.00    0.00     0.00   \n",
       "...              ...      ...      ...      ...     ...     ...      ...   \n",
       "2014-03-26      0.00     0.00     0.00     0.00    0.00    0.00     0.00   \n",
       "2014-03-27  15616.63   116.85     0.00   308.74    0.00    0.00     0.00   \n",
       "2014-03-30    392.03   657.89     0.00     0.00    0.00    0.00     0.00   \n",
       "2014-03-31      0.00   416.44  1824.86     0.00    0.00    0.00     0.00   \n",
       "2014-04-01    491.74  1115.14     0.00     0.00    0.00    0.00  3254.81   \n",
       "2014-04-02    552.00   924.47     0.00   558.88    0.00    0.00     0.00   \n",
       "2014-04-03      0.00     0.00     0.00     0.00    0.00  323.98     0.00   \n",
       "2014-04-06      0.00   399.08    93.76   334.34    0.00    0.00     0.00   \n",
       "2014-04-07      0.00   292.25   136.73     0.00    0.00    0.00     0.00   \n",
       "2014-04-08      0.00   174.89     0.00     0.00    0.00    0.00  1555.04   \n",
       "2014-04-09    748.38   175.52   478.79     0.00    0.00    0.00     0.00   \n",
       "2014-04-10      0.00   276.58     0.00     0.00    0.00    0.00     0.00   \n",
       "2014-04-13      0.00     0.00     0.00   513.35    0.00   34.83     0.00   \n",
       "2014-04-14    626.17   700.70  1091.12     0.00    0.00    0.00     0.00   \n",
       "2014-04-15      0.00     0.00     0.00   442.63    0.00  120.83     0.00   \n",
       "2014-04-16    532.63  1050.41     0.00   595.56    0.00    0.00     0.00   \n",
       "2014-04-17      0.00  2361.31     0.00     0.00    0.00  251.48  2480.49   \n",
       "2014-04-20      0.00   438.45     0.00     0.00    0.00    0.00     0.00   \n",
       "2014-04-21    464.12     0.00     0.00     0.00    0.00    0.00    56.80   \n",
       "2014-04-22      0.00   172.88   895.28   181.16  201.20    0.00     0.00   \n",
       "2014-04-23      0.00     0.00     0.00   582.88    0.00  584.17     0.00   \n",
       "2014-04-24      0.00     0.00   162.66     0.00    0.00    0.00   499.76   \n",
       "2014-04-27      0.00  1166.53   765.24     0.00    0.00    0.00    42.21   \n",
       "2014-04-28      0.00     0.00     0.00     0.00    0.00    0.00   310.96   \n",
       "2014-04-29      0.00   526.87    40.87     0.00    0.00    0.00     0.00   \n",
       "2014-04-30      0.00   122.02   400.10   360.03    0.00    0.00     0.00   \n",
       "2014-05-01    914.37     0.00     0.00     0.00    0.00    0.00   264.86   \n",
       "2014-05-04    211.60     0.00     0.00     0.00    0.00    0.00     0.00   \n",
       "2014-05-05    254.07   228.71     0.00  1045.86    0.00    0.00     0.00   \n",
       "2014-05-06     46.45     0.00     0.00   314.05    0.00    0.00   225.86   \n",
       "\n",
       "EmployeeId       8        9  \n",
       "OrderDate                    \n",
       "2012-07-04    0.00     0.00  \n",
       "2012-07-05    0.00     0.00  \n",
       "2012-07-08    0.00     0.00  \n",
       "2012-07-09    0.00     0.00  \n",
       "2012-07-10    0.00     0.00  \n",
       "2012-07-11    0.00     0.00  \n",
       "2012-07-12    0.00   474.29  \n",
       "2012-07-15    0.00     0.00  \n",
       "2012-07-16    0.00     0.00  \n",
       "2012-07-17    0.00     0.00  \n",
       "2012-07-18    0.00     0.00  \n",
       "2012-07-19    0.00     0.00  \n",
       "2012-07-22  159.98     0.00  \n",
       "2012-07-23    0.00   470.14  \n",
       "2012-07-24    0.00     0.00  \n",
       "2012-07-25    0.00     0.00  \n",
       "2012-07-26    0.00     0.00  \n",
       "2012-07-29    0.00     0.00  \n",
       "2012-07-30  484.31     0.00  \n",
       "2012-07-31    0.00     0.00  \n",
       "2012-08-01    0.00     0.00  \n",
       "2012-08-02    0.00     0.00  \n",
       "2012-08-05    0.00     0.00  \n",
       "2012-08-06    0.00     0.00  \n",
       "2012-08-07    0.00     0.00  \n",
       "2012-08-08  196.16     0.00  \n",
       "2012-08-09    0.00     0.00  \n",
       "2012-08-12  279.51     0.00  \n",
       "2012-08-13  442.17     0.00  \n",
       "2012-08-14    0.00     0.00  \n",
       "...            ...      ...  \n",
       "2014-03-26  399.46   342.36  \n",
       "2014-03-27    0.00     0.00  \n",
       "2014-03-30  337.14     0.00  \n",
       "2014-03-31  738.52     0.00  \n",
       "2014-04-01    0.00     0.00  \n",
       "2014-04-02    0.00     0.00  \n",
       "2014-04-03  368.64     0.00  \n",
       "2014-04-06    0.00     0.00  \n",
       "2014-04-07    0.00     0.00  \n",
       "2014-04-08  675.73     0.00  \n",
       "2014-04-09    0.00     0.00  \n",
       "2014-04-10    0.00   211.95  \n",
       "2014-04-13    0.00  1495.74  \n",
       "2014-04-14    0.00   694.73  \n",
       "2014-04-15    0.00     0.00  \n",
       "2014-04-16    0.00     0.00  \n",
       "2014-04-17    0.00     0.00  \n",
       "2014-04-20  420.50     0.00  \n",
       "2014-04-21    0.00     0.00  \n",
       "2014-04-22    0.00     0.00  \n",
       "2014-04-23  449.69     0.00  \n",
       "2014-04-24    0.00     0.00  \n",
       "2014-04-27  840.59     0.00  \n",
       "2014-04-28  559.94     0.00  \n",
       "2014-04-29    0.00   254.86  \n",
       "2014-04-30    0.00     0.00  \n",
       "2014-05-01  113.37     0.00  \n",
       "2014-05-04  713.18     0.00  \n",
       "2014-05-05    0.00     0.00  \n",
       "2014-05-06  189.14     0.00  \n",
       "\n",
       "[480 rows x 9 columns]"
      ]
     },
     "execution_count": 51,
     "metadata": {},
     "output_type": "execute_result"
    }
   ],
   "source": [
    "owe = orders_with_employees.groupby(['OrderDate','EmployeeId'])['AVG_Profit'].mean()\n",
    "owe2 = round(owe.unstack().fillna(0),2)\n",
    "owe2"
   ]
  },
  {
   "cell_type": "markdown",
   "metadata": {},
   "source": [
    "## Sampling"
   ]
  },
  {
   "cell_type": "code",
   "execution_count": 52,
   "metadata": {},
   "outputs": [],
   "source": [
    "nancy = owe2[1]\n",
    "andrew = owe2[2]\n",
    "janet = owe2[3]\n",
    "margaret = owe2[4]\n",
    "steven = owe2[5]\n",
    "michael = owe2[6]\n",
    "robert = owe2[7]\n",
    "laura = owe2[8]\n",
    "anne = owe2[9]"
   ]
  },
  {
   "cell_type": "markdown",
   "metadata": {},
   "source": [
    "## Visualizing the Sample Distribution"
   ]
  },
  {
   "cell_type": "code",
   "execution_count": 53,
   "metadata": {},
   "outputs": [
    {
     "data": {
      "image/png": "[encoded data removed]",
      "text/plain": [
       "<Figure size 1152x648 with 1 Axes>"
      ]
     },
     "metadata": {},
     "output_type": "display_data"
    }
   ],
   "source": [
    "plt.style.use('seaborn')\n",
    "plt.figure(figsize=(16, 9))\n",
    "sns.distplot(nancy, hist_kws={ 'color':'blue', 'alpha':0.5, 'label':'Nancy'})\n",
    "sns.distplot(andrew, hist_kws={ 'color':'red', 'alpha':0.5, 'label':'Andrew'})\n",
    "sns.distplot(janet, hist_kws={ 'color':'green', 'alpha':0.5, 'label':'Janet'})\n",
    "sns.distplot(margaret, hist_kws={ 'color':'yellow', 'alpha':0.5, 'label':'Margaret'})\n",
    "sns.distplot(steven, hist_kws={ 'color':'purple', 'alpha':0.5, 'label':'Steven'})\n",
    "sns.distplot(michael, hist_kws={ 'color':'pink', 'alpha':0.5, 'label':'Michael'})\n",
    "sns.distplot(robert, hist_kws={ 'color':'orange', 'alpha':0.5, 'label':'Robert'})\n",
    "sns.distplot(laura, hist_kws={ 'color':'lime', 'alpha':0.5, 'label':'Laura'})\n",
    "sns.distplot(anne, hist_kws={ 'color':'navy', 'alpha':0.5, 'label':'Anne'})\n",
    "plt.legend(fontsize='xx-large')\n",
    "plt.title('AVG Profit by Employee', fontdict={'fontsize': 'xx-large'})\n",
    "plt.show()"
   ]
  },
  {
   "cell_type": "markdown",
   "metadata": {},
   "source": [
    "## Analysis\n",
    "Since we have have 9 samples, one varible, and do not know the population variance of this non-norm distribution, we will use a Non-Parametric Kruskal Wallis Test. We will make the assumption that all employees will generate the same average profit per order per day, as stated in the null hypothesis. "
   ]
  },
  {
   "cell_type": "code",
   "execution_count": 54,
   "metadata": {},
   "outputs": [
    {
     "data": {
      "text/plain": [
       "LeveneResult(statistic=4.911511270462592, pvalue=4.627369633477924e-06)"
      ]
     },
     "execution_count": 54,
     "metadata": {},
     "output_type": "execute_result"
    }
   ],
   "source": [
    "stats.levene(nancy,andrew,janet,margaret,steven,\n",
    "             michael,robert,laura, anne)"
   ]
  },
  {
   "cell_type": "markdown",
   "metadata": {},
   "source": [
    "* The Levene test tests the null hypothesis that all input samples are from populations with equal variances. The p_value is statistically significant, and shows at that input samples are not from a population with equal variances. We have enough evidence to reject the null hypothesis for Levene's test, so we will move forward with the non-parametric Kruskal Wallis Test."
   ]
  },
  {
   "cell_type": "code",
   "execution_count": 55,
   "metadata": {
    "scrolled": true
   },
   "outputs": [
    {
     "data": {
      "text/plain": [
       "KruskalResult(statistic=134.29526849057228, pvalue=3.6361121814939358e-25)"
      ]
     },
     "execution_count": 55,
     "metadata": {},
     "output_type": "execute_result"
    }
   ],
   "source": [
    "stats.kruskal(nancy,andrew,janet,margaret,steven,\n",
    "             michael,robert,laura, anne)\n"
   ]
  },
  {
   "cell_type": "markdown",
   "metadata": {},
   "source": [
    "* The p_value is statistically significant and shows at least one difference between employee average profit generation over time. We have evidence to reject the null hypothesis based on the Kruskal Wallis non-parametric test."
   ]
  },
  {
   "cell_type": "code",
   "execution_count": 56,
   "metadata": {},
   "outputs": [
    {
     "data": {
      "image/png": "[encoded data removed]",
      "text/plain": [
       "<Figure size 720x432 with 1 Axes>"
      ]
     },
     "metadata": {},
     "output_type": "display_data"
    }
   ],
   "source": [
    "tukey_results.plot_simultaneous(comparison_name=.09);"
   ]
  },
  {
   "cell_type": "markdown",
   "metadata": {},
   "source": [
    "## 4.e Results Summary"
   ]
  },
  {
   "cell_type": "markdown",
   "metadata": {},
   "source": [
    "* Hypothesis Test\n",
    "    * We reject the null hypothesis\n",
    "    * This means that we have significant evidence to reject the null hypothesis.\n",
    "* Effect Size\n",
    "    * The effect size for almost all combinations of regions and the total units was very small or medium.\n",
    "* Power Analysis\n",
    "    * After a power analysis, we are 100% certain of making a Type II error; where we should have rejected the null but didn't."
   ]
  },
  {
   "cell_type": "markdown",
   "metadata": {},
   "source": [
    "## 4.f Recommendation"
   ]
  },
  {
   "cell_type": "code",
   "execution_count": 57,
   "metadata": {
    "scrolled": true
   },
   "outputs": [
    {
     "data": {
      "text/plain": [
       "EmployeeId\n",
       "9    644.095240\n",
       "2    637.758411\n",
       "7    630.305081\n",
       "1    581.665866\n",
       "3    531.489157\n",
       "4    499.752063\n",
       "5    480.908214\n",
       "8    421.831314\n",
       "6    401.553619\n",
       "Name: AVG_Profit, dtype: float64"
      ]
     },
     "execution_count": 57,
     "metadata": {},
     "output_type": "execute_result"
    }
   ],
   "source": [
    "orders_with_employees.groupby(['EmployeeId'])['AVG_Profit'].mean().sort_values(ascending=False)"
   ]
  },
  {
   "cell_type": "markdown",
   "metadata": {},
   "source": [
    "* On an average day, we see significant difference in average profit generatation between employees. Our recommendation would be to promote Anne Dodsworth from Sales Representative to Sales Manager for new regions to replicate her daily profit average of roughly $645 per day, in her past experiene in the British Isles, UK."
   ]
  },
  {
   "cell_type": "code",
   "execution_count": 58,
   "metadata": {},
   "outputs": [
    {
     "data": {
      "image/png": "[encoded data removed]",
      "text/plain": [
       "<Figure size 720x432 with 1 Axes>"
      ]
     },
     "metadata": {},
     "output_type": "display_data"
    }
   ],
   "source": [
    "from statsmodels.stats.multicomp import pairwise_tukeyhsd\n",
    "tukey_results = pairwise_tukeyhsd(orders_with_employees['AVG_Profit'], orders_with_employees['EmployeeId'],.05)\n",
    "tukey_results.plot_simultaneous(comparison_name=9);"
   ]
  },
  {
   "cell_type": "code",
   "execution_count": 59,
   "metadata": {},
   "outputs": [
    {
     "data": {
      "text/html": [
       "<div>\n",
       "<style scoped>\n",
       "    .dataframe tbody tr th:only-of-type {\n",
       "        vertical-align: middle;\n",
       "    }\n",
       "\n",
       "    .dataframe tbody tr th {\n",
       "        vertical-align: top;\n",
       "    }\n",
       "\n",
       "    .dataframe thead th {\n",
       "        text-align: right;\n",
       "    }\n",
       "</style>\n",
       "<table border=\"1\" class=\"dataframe\">\n",
       "  <thead>\n",
       "    <tr style=\"text-align: right;\">\n",
       "      <th></th>\n",
       "      <th>FirstName</th>\n",
       "      <th>LastName</th>\n",
       "      <th>Id</th>\n",
       "      <th>Title</th>\n",
       "      <th>Region</th>\n",
       "      <th>Country</th>\n",
       "    </tr>\n",
       "  </thead>\n",
       "  <tbody>\n",
       "    <tr>\n",
       "      <th>0</th>\n",
       "      <td>Nancy</td>\n",
       "      <td>Davolio</td>\n",
       "      <td>1</td>\n",
       "      <td>Sales Representative</td>\n",
       "      <td>North America</td>\n",
       "      <td>USA</td>\n",
       "    </tr>\n",
       "    <tr>\n",
       "      <th>1</th>\n",
       "      <td>Andrew</td>\n",
       "      <td>Fuller</td>\n",
       "      <td>2</td>\n",
       "      <td>Vice President, Sales</td>\n",
       "      <td>North America</td>\n",
       "      <td>USA</td>\n",
       "    </tr>\n",
       "    <tr>\n",
       "      <th>2</th>\n",
       "      <td>Janet</td>\n",
       "      <td>Leverling</td>\n",
       "      <td>3</td>\n",
       "      <td>Sales Representative</td>\n",
       "      <td>North America</td>\n",
       "      <td>USA</td>\n",
       "    </tr>\n",
       "    <tr>\n",
       "      <th>3</th>\n",
       "      <td>Margaret</td>\n",
       "      <td>Peacock</td>\n",
       "      <td>4</td>\n",
       "      <td>Sales Representative</td>\n",
       "      <td>North America</td>\n",
       "      <td>USA</td>\n",
       "    </tr>\n",
       "    <tr>\n",
       "      <th>4</th>\n",
       "      <td>Steven</td>\n",
       "      <td>Buchanan</td>\n",
       "      <td>5</td>\n",
       "      <td>Sales Manager</td>\n",
       "      <td>British Isles</td>\n",
       "      <td>UK</td>\n",
       "    </tr>\n",
       "    <tr>\n",
       "      <th>5</th>\n",
       "      <td>Michael</td>\n",
       "      <td>Suyama</td>\n",
       "      <td>6</td>\n",
       "      <td>Sales Representative</td>\n",
       "      <td>British Isles</td>\n",
       "      <td>UK</td>\n",
       "    </tr>\n",
       "    <tr>\n",
       "      <th>6</th>\n",
       "      <td>Robert</td>\n",
       "      <td>King</td>\n",
       "      <td>7</td>\n",
       "      <td>Sales Representative</td>\n",
       "      <td>British Isles</td>\n",
       "      <td>UK</td>\n",
       "    </tr>\n",
       "    <tr>\n",
       "      <th>7</th>\n",
       "      <td>Laura</td>\n",
       "      <td>Callahan</td>\n",
       "      <td>8</td>\n",
       "      <td>Inside Sales Coordinator</td>\n",
       "      <td>North America</td>\n",
       "      <td>USA</td>\n",
       "    </tr>\n",
       "    <tr>\n",
       "      <th>8</th>\n",
       "      <td>Anne</td>\n",
       "      <td>Dodsworth</td>\n",
       "      <td>9</td>\n",
       "      <td>Sales Representative</td>\n",
       "      <td>British Isles</td>\n",
       "      <td>UK</td>\n",
       "    </tr>\n",
       "  </tbody>\n",
       "</table>\n",
       "</div>"
      ],
      "text/plain": [
       "  FirstName   LastName  Id                     Title         Region Country\n",
       "0     Nancy    Davolio   1      Sales Representative  North America     USA\n",
       "1    Andrew     Fuller   2     Vice President, Sales  North America     USA\n",
       "2     Janet  Leverling   3      Sales Representative  North America     USA\n",
       "3  Margaret    Peacock   4      Sales Representative  North America     USA\n",
       "4    Steven   Buchanan   5             Sales Manager  British Isles      UK\n",
       "5   Michael     Suyama   6      Sales Representative  British Isles      UK\n",
       "6    Robert       King   7      Sales Representative  British Isles      UK\n",
       "7     Laura   Callahan   8  Inside Sales Coordinator  North America     USA\n",
       "8      Anne  Dodsworth   9      Sales Representative  British Isles      UK"
      ]
     },
     "execution_count": 59,
     "metadata": {},
     "output_type": "execute_result"
    }
   ],
   "source": [
    "cur.execute(\n",
    "\"\"\"\n",
    "SELECT e.FirstName,e.LastName, e.Id, e.Title, e.Region, e.Country\n",
    "From Employee e\n",
    "\n",
    "\"\"\")\n",
    "employees = pd.DataFrame(cur.fetchall())\n",
    "employees.columns = [x[0] for x in cur.description]\n",
    "employees.columns\n",
    "employees"
   ]
  },
  {
   "cell_type": "markdown",
   "metadata": {},
   "source": [
    "[Top](#Table-of-Contents)\n"
   ]
  },
  {
   "cell_type": "markdown",
   "metadata": {},
   "source": [
    "# 5. Future Work\n",
    "This will conclude our audit, below we will wrap up our findings and recommendations shared with the leadership and key stakeholders. We have also included additional areas of research for your stakeholders, as we hope to share future work that could be beneficial to the company's board of directors.\n",
    "\n",
    "Here are the decisions we recommend based on the questions within the scope of this research:\n",
    "\n",
    "- <b>Initial Question:</b> *Does discount amount have a statistically significant effect on the quantity of a product in an order? If so, at what level(s) of discount?*\n",
    "    * On average, customers order quantity increases at around 9%. Our recommendation around order discounts would be to create a campaign for 9% discounts to current and future customers in the selected area of expansion. This targeted campaign will significantly increase order quantity, in any new regions or territories of expansion.\n",
    "- <b>Second Question:</b> *Are US employees generating the same profit on average as UK employees?*\n",
    "    * On average, we do not see a significant difference in profit generation between countries. Our recommendation would be to expand offices in other regions to replicate the profit generated from teams in the US and the UK.  \n",
    "- <b>Third Question:</b> *On average, are our teams generating more profit from inside sales or outside sales in the US?*\n",
    "    * On average, we do not see a significant difference in revenue generatation between inside and outside teams. Our recommendation would be to expand teams in other regions to replicate the profit generated from inside and outside sales in the US and the UK.\n",
    "- <b>Final Question:</b> *Are all employees generating equal revenue over time?*\n",
    "    * On an average day, we see significant difference in average profit generatation between employees. Our recommendation would be to promote Anne Dodsworth from Sales Representative to Sales Manager for new regions to replicate her daily profit average of roughly $645 per day, in her past experience in the British Isles, UK.\n",
    "\n",
    "\n",
    "Below are our reccommendations for **Future Work**:"
   ]
  },
  {
   "cell_type": "markdown",
   "metadata": {},
   "source": [
    "## 5.a Recommendation 1"
   ]
  },
  {
   "cell_type": "markdown",
   "metadata": {},
   "source": [
    "* Just like we analyzed **Employee Performance** for expansion, we can also look at **Product Performance** to share which products may have a significant impact on average profit per order, before going into uncharted regions. Given the results from our discount campaigns recommendation, the products with significant impact will help new teams and new leadership increase average profit per order in new regions."
   ]
  },
  {
   "cell_type": "markdown",
   "metadata": {},
   "source": [
    "## 5.b Recommendation 2"
   ]
  },
  {
   "cell_type": "markdown",
   "metadata": {},
   "source": [
    "* In addition to **Product Performance**, we can also analyze **Supplier Performance**. While the employees can lead sales, we can take another look at purchasing in order which suppliers product offerings have a significant effect on our average profit per order. This will allow leadership to cancel contracts with suppliers that yield a negative impact and replace those contracts with suppliers that yield positive impacts on profit per order. e correctly identified and articulated."
   ]
  },
  {
   "cell_type": "markdown",
   "metadata": {},
   "source": [
    "## 5.c Recommendation 3"
   ]
  },
  {
   "cell_type": "markdown",
   "metadata": {},
   "source": [
    "* Finally, we can analyze **Shipper Performance**. While analyzing supplier performance can save money in purchasing, and analyzing product performance can help employee performance, by analyzing shipper performance, we can measure customer satisfaction. If we attribute an ontime order to the equivalent of a satisfied customer, we would be able to see which shippers have a significant impact on an average delayed in orders per day. This information will allow leadership to source different shipping companies, and also allow more opportunity current shippers without significant impacts on average daily delays. "
   ]
  },
  {
   "cell_type": "markdown",
   "metadata": {},
   "source": [
    "[Top](#Table-of-Contents)\n"
   ]
  }
 ],
 "metadata": {
  "kernelspec": {
   "display_name": "Python 3",
   "language": "python",
   "name": "python3"
  },
  "language_info": {
   "codemirror_mode": {
    "name": "ipython",
    "version": 3
   },
   "file_extension": ".py",
   "mimetype": "text/x-python",
   "name": "python",
   "nbconvert_exporter": "python",
   "pygments_lexer": "ipython3",
   "version": "3.7.3"
  }
 },
 "nbformat": 4,
 "nbformat_minor": 2
}
